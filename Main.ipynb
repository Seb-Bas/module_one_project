{
 "cells": [
  {
   "cell_type": "markdown",
   "metadata": {},
   "source": [
    "## Imports"
   ]
  },
  {
   "cell_type": "code",
   "execution_count": 378,
   "metadata": {},
   "outputs": [],
   "source": [
    "import numpy as np\n",
    "import pandas as pd\n",
    "import matplotlib.pyplot as plt\n",
    "import seaborn as sns\n",
    "import pickle\n",
    "import datetime\n",
    "import squarify\n",
    "\n",
    "sns.set(style=\"whitegrid\")\n",
    "%matplotlib inline"
   ]
  },
  {
   "cell_type": "code",
   "execution_count": 379,
   "metadata": {},
   "outputs": [],
   "source": [
    "#bom_df = pd.read_csv('Data/bom.movie_gross.csv')\n",
    "# imdb_name_df = pd.read_csv('Data/imdb.name.basics.csv')\n",
    "# imdb_akas_df = pd.read_csv('Data/imdb.title.akas.csv')\n",
    "# imdb_basics_df = pd.read_csv('Data/imdb.title.basics.csv')\n",
    "# imbd_crew_df = pd.read_csv('Data/imdb.title.crew.csv')\n",
    "# imdb_principals_df = pd.read_csv('Data/imdb.title.principals.csv')\n",
    "# imdb_ratings_df = pd.read_csv('Data/imdb.title.ratings.csv')\n",
    "# rt_info_df = pd.read_csv('Data/rt.movie_info.tsv', sep = '\\t')\n",
    "# rt_reviews_df = pd.read_csv('Data/rt.reviews.tsv', sep = '\\t', encoding ='ISO-8859-1')\n",
    "# tmdb_movies_df = pd.read_csv('Data/tmdb.movies.csv')\n",
    "# tn_budgets_df = pd.read_csv('Data/tn.movie_budgets.csv')\n",
    "\n",
    "tmdb_data = pd.read_csv('Data/tmdb_movies_data.csv')\n",
    "oscars_data = pd.read_csv('Data/oscars_database.csv')"
   ]
  },
  {
   "cell_type": "markdown",
   "metadata": {},
   "source": [
    "## Data Cleaning"
   ]
  },
  {
   "cell_type": "markdown",
   "metadata": {},
   "source": [
    "#### Oscars Cleaning"
   ]
  },
  {
   "cell_type": "code",
   "execution_count": 380,
   "metadata": {},
   "outputs": [
    {
     "data": {
      "text/html": [
       "<div>\n",
       "<style scoped>\n",
       "    .dataframe tbody tr th:only-of-type {\n",
       "        vertical-align: middle;\n",
       "    }\n",
       "\n",
       "    .dataframe tbody tr th {\n",
       "        vertical-align: top;\n",
       "    }\n",
       "\n",
       "    .dataframe thead th {\n",
       "        text-align: right;\n",
       "    }\n",
       "</style>\n",
       "<table border=\"1\" class=\"dataframe\">\n",
       "  <thead>\n",
       "    <tr style=\"text-align: right;\">\n",
       "      <th></th>\n",
       "      <th>Year</th>\n",
       "      <th>Ceremony</th>\n",
       "      <th>Award</th>\n",
       "      <th>Winner</th>\n",
       "      <th>Name</th>\n",
       "      <th>Film</th>\n",
       "    </tr>\n",
       "  </thead>\n",
       "  <tbody>\n",
       "    <tr>\n",
       "      <th>0</th>\n",
       "      <td>1927/1928</td>\n",
       "      <td>1</td>\n",
       "      <td>Actor</td>\n",
       "      <td>NaN</td>\n",
       "      <td>Richard Barthelmess</td>\n",
       "      <td>The Noose</td>\n",
       "    </tr>\n",
       "    <tr>\n",
       "      <th>1</th>\n",
       "      <td>1927/1928</td>\n",
       "      <td>1</td>\n",
       "      <td>Actor</td>\n",
       "      <td>1.0</td>\n",
       "      <td>Emil Jannings</td>\n",
       "      <td>The Last Command</td>\n",
       "    </tr>\n",
       "    <tr>\n",
       "      <th>2</th>\n",
       "      <td>1927/1928</td>\n",
       "      <td>1</td>\n",
       "      <td>Actress</td>\n",
       "      <td>NaN</td>\n",
       "      <td>Louise Dresser</td>\n",
       "      <td>A Ship Comes In</td>\n",
       "    </tr>\n",
       "    <tr>\n",
       "      <th>3</th>\n",
       "      <td>1927/1928</td>\n",
       "      <td>1</td>\n",
       "      <td>Actress</td>\n",
       "      <td>1.0</td>\n",
       "      <td>Janet Gaynor</td>\n",
       "      <td>7th Heaven</td>\n",
       "    </tr>\n",
       "    <tr>\n",
       "      <th>4</th>\n",
       "      <td>1927/1928</td>\n",
       "      <td>1</td>\n",
       "      <td>Actress</td>\n",
       "      <td>NaN</td>\n",
       "      <td>Gloria Swanson</td>\n",
       "      <td>Sadie Thompson</td>\n",
       "    </tr>\n",
       "  </tbody>\n",
       "</table>\n",
       "</div>"
      ],
      "text/plain": [
       "        Year  Ceremony    Award  Winner                 Name              Film\n",
       "0  1927/1928         1    Actor     NaN  Richard Barthelmess         The Noose\n",
       "1  1927/1928         1    Actor     1.0        Emil Jannings  The Last Command\n",
       "2  1927/1928         1  Actress     NaN       Louise Dresser   A Ship Comes In\n",
       "3  1927/1928         1  Actress     1.0         Janet Gaynor        7th Heaven\n",
       "4  1927/1928         1  Actress     NaN       Gloria Swanson    Sadie Thompson"
      ]
     },
     "execution_count": 380,
     "metadata": {},
     "output_type": "execute_result"
    }
   ],
   "source": [
    "oscars_data.head()"
   ]
  },
  {
   "cell_type": "code",
   "execution_count": 381,
   "metadata": {},
   "outputs": [],
   "source": [
    "oscars_data['Year'] = oscars_data['Year'].str[:4].astype('int64')\n",
    "oscars_data = oscars_data[oscars_data['Year'] >= 2000]\n",
    "oscars_data = oscars_data[oscars_data['Year'] <= 2019]\n",
    "oscars_data.drop(columns = 'Ceremony', inplace = True)"
   ]
  },
  {
   "cell_type": "code",
   "execution_count": 382,
   "metadata": {},
   "outputs": [
    {
     "data": {
      "text/html": [
       "<div>\n",
       "<style scoped>\n",
       "    .dataframe tbody tr th:only-of-type {\n",
       "        vertical-align: middle;\n",
       "    }\n",
       "\n",
       "    .dataframe tbody tr th {\n",
       "        vertical-align: top;\n",
       "    }\n",
       "\n",
       "    .dataframe thead th {\n",
       "        text-align: right;\n",
       "    }\n",
       "</style>\n",
       "<table border=\"1\" class=\"dataframe\">\n",
       "  <thead>\n",
       "    <tr style=\"text-align: right;\">\n",
       "      <th></th>\n",
       "      <th>Year</th>\n",
       "      <th>Award</th>\n",
       "      <th>Winner</th>\n",
       "      <th>Name</th>\n",
       "      <th>Film</th>\n",
       "    </tr>\n",
       "  </thead>\n",
       "  <tbody>\n",
       "  </tbody>\n",
       "</table>\n",
       "</div>"
      ],
      "text/plain": [
       "Empty DataFrame\n",
       "Columns: [Year, Award, Winner, Name, Film]\n",
       "Index: []"
      ]
     },
     "execution_count": 382,
     "metadata": {},
     "output_type": "execute_result"
    }
   ],
   "source": [
    "oscars_data[oscars_data['Film'] == 'Avatar']"
   ]
  },
  {
   "cell_type": "code",
   "execution_count": 383,
   "metadata": {},
   "outputs": [
    {
     "data": {
      "text/plain": [
       "Year         0\n",
       "Award        0\n",
       "Winner    1458\n",
       "Name         0\n",
       "Film        72\n",
       "dtype: int64"
      ]
     },
     "execution_count": 383,
     "metadata": {},
     "output_type": "execute_result"
    }
   ],
   "source": [
    "oscars_data.isna().sum()"
   ]
  },
  {
   "cell_type": "code",
   "execution_count": 384,
   "metadata": {},
   "outputs": [
    {
     "data": {
      "text/html": [
       "<div>\n",
       "<style scoped>\n",
       "    .dataframe tbody tr th:only-of-type {\n",
       "        vertical-align: middle;\n",
       "    }\n",
       "\n",
       "    .dataframe tbody tr th {\n",
       "        vertical-align: top;\n",
       "    }\n",
       "\n",
       "    .dataframe thead th {\n",
       "        text-align: right;\n",
       "    }\n",
       "</style>\n",
       "<table border=\"1\" class=\"dataframe\">\n",
       "  <thead>\n",
       "    <tr style=\"text-align: right;\">\n",
       "      <th></th>\n",
       "      <th>Year</th>\n",
       "      <th>Award</th>\n",
       "      <th>Winner</th>\n",
       "      <th>Name</th>\n",
       "    </tr>\n",
       "    <tr>\n",
       "      <th>Film</th>\n",
       "      <th></th>\n",
       "      <th></th>\n",
       "      <th></th>\n",
       "      <th></th>\n",
       "    </tr>\n",
       "  </thead>\n",
       "  <tbody>\n",
       "    <tr>\n",
       "      <th>12 Years a Slave</th>\n",
       "      <td>2013</td>\n",
       "      <td>Actor in a Leading Role</td>\n",
       "      <td>0.0</td>\n",
       "      <td>Chiwetel Ejiofor</td>\n",
       "    </tr>\n",
       "    <tr>\n",
       "      <th>12 Years a Slave</th>\n",
       "      <td>2013</td>\n",
       "      <td>Actress in a Supporting Role</td>\n",
       "      <td>1.0</td>\n",
       "      <td>Lupita Nyong'o</td>\n",
       "    </tr>\n",
       "    <tr>\n",
       "      <th>12 Years a Slave</th>\n",
       "      <td>2013</td>\n",
       "      <td>Actor in a Supporting Role</td>\n",
       "      <td>0.0</td>\n",
       "      <td>Michael Fassbender</td>\n",
       "    </tr>\n",
       "    <tr>\n",
       "      <th>127 Hours</th>\n",
       "      <td>2010</td>\n",
       "      <td>Actor in a Leading Role</td>\n",
       "      <td>0.0</td>\n",
       "      <td>James Franco</td>\n",
       "    </tr>\n",
       "    <tr>\n",
       "      <th>21 Grams</th>\n",
       "      <td>2003</td>\n",
       "      <td>Actor in a Supporting Role</td>\n",
       "      <td>0.0</td>\n",
       "      <td>Benicio Del Toro</td>\n",
       "    </tr>\n",
       "  </tbody>\n",
       "</table>\n",
       "</div>"
      ],
      "text/plain": [
       "                  Year                         Award  Winner  \\\n",
       "Film                                                           \n",
       "12 Years a Slave  2013       Actor in a Leading Role     0.0   \n",
       "12 Years a Slave  2013  Actress in a Supporting Role     1.0   \n",
       "12 Years a Slave  2013    Actor in a Supporting Role     0.0   \n",
       "127 Hours         2010       Actor in a Leading Role     0.0   \n",
       "21 Grams          2003    Actor in a Supporting Role     0.0   \n",
       "\n",
       "                                Name  \n",
       "Film                                  \n",
       "12 Years a Slave    Chiwetel Ejiofor  \n",
       "12 Years a Slave      Lupita Nyong'o  \n",
       "12 Years a Slave  Michael Fassbender  \n",
       "127 Hours               James Franco  \n",
       "21 Grams            Benicio Del Toro  "
      ]
     },
     "execution_count": 384,
     "metadata": {},
     "output_type": "execute_result"
    }
   ],
   "source": [
    "oscars_data = oscars_data[~oscars_data['Film'].isna()]\n",
    "oscars_data = oscars_data.fillna(0)\n",
    "oscars_data = oscars_data.set_index('Film')\n",
    "oscars_data.sort_values('Film', inplace = True)\n",
    "oscars_data.head()"
   ]
  },
  {
   "cell_type": "code",
   "execution_count": 385,
   "metadata": {},
   "outputs": [],
   "source": [
    "wins = oscars_data.groupby('Film').sum()['Winner']\n",
    "nominations = oscars_data.groupby('Film').count()['Winner']"
   ]
  },
  {
   "cell_type": "code",
   "execution_count": 386,
   "metadata": {},
   "outputs": [
    {
     "data": {
      "text/plain": [
       "Film\n",
       "12 Years a Slave    3\n",
       "127 Hours           1\n",
       "21 Grams            2\n",
       "45 Years            1\n",
       "A Beautiful Mind    2\n",
       "Name: Winner, dtype: int64"
      ]
     },
     "execution_count": 386,
     "metadata": {},
     "output_type": "execute_result"
    }
   ],
   "source": [
    "nominations.head()"
   ]
  },
  {
   "cell_type": "markdown",
   "metadata": {},
   "source": [
    "#### TMDB Cleaning"
   ]
  },
  {
   "cell_type": "code",
   "execution_count": null,
   "metadata": {},
   "outputs": [],
   "source": []
  },
  {
   "cell_type": "code",
   "execution_count": 387,
   "metadata": {},
   "outputs": [
    {
     "data": {
      "text/plain": [
       "Index(['id', 'imdb_id', 'popularity', 'budget', 'revenue', 'original_title',\n",
       "       'cast', 'homepage', 'director', 'tagline', 'keywords', 'overview',\n",
       "       'runtime', 'genres', 'production_companies', 'release_date',\n",
       "       'vote_count', 'vote_average', 'release_year', 'budget_adj',\n",
       "       'revenue_adj'],\n",
       "      dtype='object')"
      ]
     },
     "execution_count": 387,
     "metadata": {},
     "output_type": "execute_result"
    }
   ],
   "source": [
    "tmdb_data.columns"
   ]
  },
  {
   "cell_type": "code",
   "execution_count": 388,
   "metadata": {},
   "outputs": [],
   "source": [
    "tmdb_data.drop(columns = ['id', 'homepage', 'tagline', 'keywords', 'overview', 'runtime', 'production_companies', \n",
    "                         'release_date'], inplace = True)"
   ]
  },
  {
   "cell_type": "code",
   "execution_count": 389,
   "metadata": {},
   "outputs": [],
   "source": [
    "tmdb_data['cast'] = tmdb_data['cast'].apply(lambda x: str(x).split('|'))\n",
    "tmdb_data['genres'] = tmdb_data['genres'].apply(lambda x: str(x).split('|'))\n"
   ]
  },
  {
   "cell_type": "code",
   "execution_count": 390,
   "metadata": {},
   "outputs": [],
   "source": [
    "tmdb_cleaned = tmdb_data.sort_values(by = ['revenue_adj'], ascending = False)\n",
    "tmdb_cleaned = tmdb_cleaned[~tmdb_cleaned.director.isna()]\n",
    "tmdb_cleaned = tmdb_cleaned.drop_duplicates(subset =\"imdb_id\", keep = False)\n",
    "tmdb_cleaned = tmdb_cleaned[tmdb_cleaned['release_year'] >= 2000]\n"
   ]
  },
  {
   "cell_type": "code",
   "execution_count": 391,
   "metadata": {},
   "outputs": [],
   "source": [
    "tmdb_cleaned['budget'] = tmdb_data['budget']/1000000\n",
    "tmdb_cleaned['revenue'] = tmdb_data['revenue']/1000000\n",
    "tmdb_cleaned['budget_adj'] = tmdb_cleaned['budget_adj']/1000000\n",
    "tmdb_cleaned['revenue_adj'] = tmdb_cleaned['revenue_adj']/1000000\n",
    "tmdb_cleaned['profit'] = tmdb_cleaned['revenue_adj'] - tmdb_cleaned['budget_adj']"
   ]
  },
  {
   "cell_type": "code",
   "execution_count": 392,
   "metadata": {},
   "outputs": [
    {
     "data": {
      "text/html": [
       "<div>\n",
       "<style scoped>\n",
       "    .dataframe tbody tr th:only-of-type {\n",
       "        vertical-align: middle;\n",
       "    }\n",
       "\n",
       "    .dataframe tbody tr th {\n",
       "        vertical-align: top;\n",
       "    }\n",
       "\n",
       "    .dataframe thead th {\n",
       "        text-align: right;\n",
       "    }\n",
       "</style>\n",
       "<table border=\"1\" class=\"dataframe\">\n",
       "  <thead>\n",
       "    <tr style=\"text-align: right;\">\n",
       "      <th></th>\n",
       "      <th>imdb_id</th>\n",
       "      <th>popularity</th>\n",
       "      <th>budget</th>\n",
       "      <th>revenue</th>\n",
       "      <th>original_title</th>\n",
       "      <th>cast</th>\n",
       "      <th>director</th>\n",
       "      <th>genres</th>\n",
       "      <th>vote_count</th>\n",
       "      <th>vote_average</th>\n",
       "      <th>release_year</th>\n",
       "      <th>budget_adj</th>\n",
       "      <th>revenue_adj</th>\n",
       "      <th>profit</th>\n",
       "    </tr>\n",
       "  </thead>\n",
       "  <tbody>\n",
       "    <tr>\n",
       "      <th>1386</th>\n",
       "      <td>tt0499549</td>\n",
       "      <td>9.432768</td>\n",
       "      <td>237.0</td>\n",
       "      <td>2781.505847</td>\n",
       "      <td>Avatar</td>\n",
       "      <td>[Sam Worthington, Zoe Saldana, Sigourney Weave...</td>\n",
       "      <td>James Cameron</td>\n",
       "      <td>[Action, Adventure, Fantasy, Science Fiction]</td>\n",
       "      <td>8458</td>\n",
       "      <td>7.1</td>\n",
       "      <td>2009</td>\n",
       "      <td>240.886903</td>\n",
       "      <td>2827.12375</td>\n",
       "      <td>2586.236847</td>\n",
       "    </tr>\n",
       "  </tbody>\n",
       "</table>\n",
       "</div>"
      ],
      "text/plain": [
       "        imdb_id  popularity  budget      revenue original_title  \\\n",
       "1386  tt0499549    9.432768   237.0  2781.505847         Avatar   \n",
       "\n",
       "                                                   cast       director  \\\n",
       "1386  [Sam Worthington, Zoe Saldana, Sigourney Weave...  James Cameron   \n",
       "\n",
       "                                             genres  vote_count  vote_average  \\\n",
       "1386  [Action, Adventure, Fantasy, Science Fiction]        8458           7.1   \n",
       "\n",
       "      release_year  budget_adj  revenue_adj       profit  \n",
       "1386          2009  240.886903   2827.12375  2586.236847  "
      ]
     },
     "execution_count": 392,
     "metadata": {},
     "output_type": "execute_result"
    }
   ],
   "source": [
    "tmdb_cleaned[tmdb_cleaned['original_title'] == 'Avatar']"
   ]
  },
  {
   "cell_type": "markdown",
   "metadata": {},
   "source": [
    "#### Merging Data Frames"
   ]
  },
  {
   "cell_type": "code",
   "execution_count": 393,
   "metadata": {},
   "outputs": [],
   "source": [
    "merged_data = tmdb_cleaned"
   ]
  },
  {
   "cell_type": "code",
   "execution_count": null,
   "metadata": {},
   "outputs": [],
   "source": []
  },
  {
   "cell_type": "code",
   "execution_count": 394,
   "metadata": {},
   "outputs": [],
   "source": [
    "merged_data = merged_data.merge(nominations, left_on = 'original_title', right_on = 'Film', how = 'left')\n",
    "merged_data.rename(columns = {'Winner': 'nominations'}, inplace = True)\n",
    "merged_data = merged_data.merge(wins, left_on = 'original_title', right_on = 'Film', how = 'left')\n",
    "merged_data.rename(columns = {'Winner': 'wins'}, inplace = True)\n",
    "#merged_data.nominations.fillna(0, inplace = True)\n",
    "#merged_data.wins.fillna(0, inplace = True)"
   ]
  },
  {
   "cell_type": "markdown",
   "metadata": {},
   "source": [
    "quick note! we want to do a left merge here, because if we do only the intersection, we will get a small selection of movies that have been nominated to the oscars meaning the budgets and revenues will be much much higher!"
   ]
  },
  {
   "cell_type": "code",
   "execution_count": 395,
   "metadata": {},
   "outputs": [
    {
     "data": {
      "text/html": [
       "<div>\n",
       "<style scoped>\n",
       "    .dataframe tbody tr th:only-of-type {\n",
       "        vertical-align: middle;\n",
       "    }\n",
       "\n",
       "    .dataframe tbody tr th {\n",
       "        vertical-align: top;\n",
       "    }\n",
       "\n",
       "    .dataframe thead th {\n",
       "        text-align: right;\n",
       "    }\n",
       "</style>\n",
       "<table border=\"1\" class=\"dataframe\">\n",
       "  <thead>\n",
       "    <tr style=\"text-align: right;\">\n",
       "      <th></th>\n",
       "      <th>imdb_id</th>\n",
       "      <th>popularity</th>\n",
       "      <th>budget</th>\n",
       "      <th>revenue</th>\n",
       "      <th>original_title</th>\n",
       "      <th>cast</th>\n",
       "      <th>director</th>\n",
       "      <th>genres</th>\n",
       "      <th>vote_count</th>\n",
       "      <th>vote_average</th>\n",
       "      <th>release_year</th>\n",
       "      <th>budget_adj</th>\n",
       "      <th>revenue_adj</th>\n",
       "      <th>profit</th>\n",
       "      <th>nominations</th>\n",
       "      <th>wins</th>\n",
       "    </tr>\n",
       "  </thead>\n",
       "  <tbody>\n",
       "    <tr>\n",
       "      <th>0</th>\n",
       "      <td>tt0499549</td>\n",
       "      <td>9.432768</td>\n",
       "      <td>237.0</td>\n",
       "      <td>2781.505847</td>\n",
       "      <td>Avatar</td>\n",
       "      <td>[Sam Worthington, Zoe Saldana, Sigourney Weave...</td>\n",
       "      <td>James Cameron</td>\n",
       "      <td>[Action, Adventure, Fantasy, Science Fiction]</td>\n",
       "      <td>8458</td>\n",
       "      <td>7.1</td>\n",
       "      <td>2009</td>\n",
       "      <td>240.886903</td>\n",
       "      <td>2827.123750</td>\n",
       "      <td>2586.236847</td>\n",
       "      <td>NaN</td>\n",
       "      <td>NaN</td>\n",
       "    </tr>\n",
       "    <tr>\n",
       "      <th>1</th>\n",
       "      <td>tt2488496</td>\n",
       "      <td>11.173104</td>\n",
       "      <td>200.0</td>\n",
       "      <td>2068.178225</td>\n",
       "      <td>Star Wars: The Force Awakens</td>\n",
       "      <td>[Harrison Ford, Mark Hamill, Carrie Fisher, Ad...</td>\n",
       "      <td>J.J. Abrams</td>\n",
       "      <td>[Action, Adventure, Science Fiction, Fantasy]</td>\n",
       "      <td>5292</td>\n",
       "      <td>7.5</td>\n",
       "      <td>2015</td>\n",
       "      <td>183.999919</td>\n",
       "      <td>1902.723130</td>\n",
       "      <td>1718.723211</td>\n",
       "      <td>NaN</td>\n",
       "      <td>NaN</td>\n",
       "    </tr>\n",
       "    <tr>\n",
       "      <th>2</th>\n",
       "      <td>tt0848228</td>\n",
       "      <td>7.637767</td>\n",
       "      <td>220.0</td>\n",
       "      <td>1519.557910</td>\n",
       "      <td>The Avengers</td>\n",
       "      <td>[Robert Downey Jr., Chris Evans, Mark Ruffalo,...</td>\n",
       "      <td>Joss Whedon</td>\n",
       "      <td>[Science Fiction, Action, Adventure]</td>\n",
       "      <td>8903</td>\n",
       "      <td>7.3</td>\n",
       "      <td>2012</td>\n",
       "      <td>208.943742</td>\n",
       "      <td>1443.191435</td>\n",
       "      <td>1234.247693</td>\n",
       "      <td>NaN</td>\n",
       "      <td>NaN</td>\n",
       "    </tr>\n",
       "    <tr>\n",
       "      <th>3</th>\n",
       "      <td>tt0369610</td>\n",
       "      <td>32.985763</td>\n",
       "      <td>150.0</td>\n",
       "      <td>1513.528810</td>\n",
       "      <td>Jurassic World</td>\n",
       "      <td>[Chris Pratt, Bryce Dallas Howard, Irrfan Khan...</td>\n",
       "      <td>Colin Trevorrow</td>\n",
       "      <td>[Action, Adventure, Science Fiction, Thriller]</td>\n",
       "      <td>5562</td>\n",
       "      <td>6.5</td>\n",
       "      <td>2015</td>\n",
       "      <td>137.999939</td>\n",
       "      <td>1392.445893</td>\n",
       "      <td>1254.445954</td>\n",
       "      <td>NaN</td>\n",
       "      <td>NaN</td>\n",
       "    </tr>\n",
       "    <tr>\n",
       "      <th>4</th>\n",
       "      <td>tt2820852</td>\n",
       "      <td>9.335014</td>\n",
       "      <td>190.0</td>\n",
       "      <td>1506.249360</td>\n",
       "      <td>Furious 7</td>\n",
       "      <td>[Vin Diesel, Paul Walker, Jason Statham, Miche...</td>\n",
       "      <td>James Wan</td>\n",
       "      <td>[Action, Crime, Thriller]</td>\n",
       "      <td>2947</td>\n",
       "      <td>7.3</td>\n",
       "      <td>2015</td>\n",
       "      <td>174.799923</td>\n",
       "      <td>1385.748801</td>\n",
       "      <td>1210.948878</td>\n",
       "      <td>NaN</td>\n",
       "      <td>NaN</td>\n",
       "    </tr>\n",
       "  </tbody>\n",
       "</table>\n",
       "</div>"
      ],
      "text/plain": [
       "     imdb_id  popularity  budget      revenue                original_title  \\\n",
       "0  tt0499549    9.432768   237.0  2781.505847                        Avatar   \n",
       "1  tt2488496   11.173104   200.0  2068.178225  Star Wars: The Force Awakens   \n",
       "2  tt0848228    7.637767   220.0  1519.557910                  The Avengers   \n",
       "3  tt0369610   32.985763   150.0  1513.528810                Jurassic World   \n",
       "4  tt2820852    9.335014   190.0  1506.249360                     Furious 7   \n",
       "\n",
       "                                                cast         director  \\\n",
       "0  [Sam Worthington, Zoe Saldana, Sigourney Weave...    James Cameron   \n",
       "1  [Harrison Ford, Mark Hamill, Carrie Fisher, Ad...      J.J. Abrams   \n",
       "2  [Robert Downey Jr., Chris Evans, Mark Ruffalo,...      Joss Whedon   \n",
       "3  [Chris Pratt, Bryce Dallas Howard, Irrfan Khan...  Colin Trevorrow   \n",
       "4  [Vin Diesel, Paul Walker, Jason Statham, Miche...        James Wan   \n",
       "\n",
       "                                           genres  vote_count  vote_average  \\\n",
       "0   [Action, Adventure, Fantasy, Science Fiction]        8458           7.1   \n",
       "1   [Action, Adventure, Science Fiction, Fantasy]        5292           7.5   \n",
       "2            [Science Fiction, Action, Adventure]        8903           7.3   \n",
       "3  [Action, Adventure, Science Fiction, Thriller]        5562           6.5   \n",
       "4                       [Action, Crime, Thriller]        2947           7.3   \n",
       "\n",
       "   release_year  budget_adj  revenue_adj       profit  nominations  wins  \n",
       "0          2009  240.886903  2827.123750  2586.236847          NaN   NaN  \n",
       "1          2015  183.999919  1902.723130  1718.723211          NaN   NaN  \n",
       "2          2012  208.943742  1443.191435  1234.247693          NaN   NaN  \n",
       "3          2015  137.999939  1392.445893  1254.445954          NaN   NaN  \n",
       "4          2015  174.799923  1385.748801  1210.948878          NaN   NaN  "
      ]
     },
     "execution_count": 395,
     "metadata": {},
     "output_type": "execute_result"
    }
   ],
   "source": [
    "merged_data.head()"
   ]
  },
  {
   "cell_type": "markdown",
   "metadata": {},
   "source": [
    "## Feature Generation (Genres)"
   ]
  },
  {
   "cell_type": "code",
   "execution_count": 396,
   "metadata": {},
   "outputs": [],
   "source": [
    "comedies = merged_data[merged_data['genres'].apply(lambda x: 'Comedy' in x)]\n",
    "dramas = merged_data[merged_data['genres'].apply(lambda x: 'Drama' in x)]\n",
    "horrors = merged_data[merged_data['genres'].apply(lambda x: 'Horror' in x)]\n",
    "adventures = merged_data[merged_data['genres'].apply(lambda x: 'Adventure' in x)]\n",
    "fantasies = merged_data[merged_data['genres'].apply(lambda x: 'Fantasy' in x)]\n",
    "thrillers = merged_data[merged_data['genres'].apply(lambda x: 'Thriller' in x)]\n",
    "science_fictions = merged_data[merged_data['genres'].apply(lambda x: 'Science Fiction' in x)]\n",
    "actions = merged_data[merged_data['genres'].apply(lambda x: 'Action' in x)]\n",
    "crimes = merged_data[merged_data['genres'].apply(lambda x: 'Crime' in x)]\n",
    "families = merged_data[merged_data['genres'].apply(lambda x: 'Family' in x)]\n",
    "animations = merged_data[merged_data['genres'].apply(lambda x: 'Animation' in x)]\n",
    "mysteries = merged_data[merged_data['genres'].apply(lambda x: 'Mystery' in x)]"
   ]
  },
  {
   "cell_type": "code",
   "execution_count": 397,
   "metadata": {},
   "outputs": [],
   "source": [
    "genres = [comedies, dramas, horrors, adventures, fantasies, thrillers, science_fictions, actions, crimes, families, animations, mysteries]\n",
    "genres_names = ['comedy', 'drama', 'horror', 'adventure', 'fantasy', 'thriller', 'science fiction', 'action', 'crime', 'family', 'animation', 'mystery']"
   ]
  },
  {
   "cell_type": "code",
   "execution_count": 398,
   "metadata": {},
   "outputs": [],
   "source": [
    "revenues_adj_mean = []\n",
    "budget_adj_mean = []\n",
    "oscar_nominations = []\n",
    "oscar_wins = []\n",
    "for genre in genres:\n",
    "    revenues_adj_mean.append(genre.mean()['revenue_adj'])\n",
    "    budget_adj_mean.append(genre.mean()['budget_adj'])\n",
    "    oscar_nominations.append(genre.sum()['nominations'])\n",
    "    oscar_wins.append(genre.sum()['wins'])\n",
    "\n",
    "to_df = []\n",
    "for i in range(len(genres_names)):\n",
    "    my_list = [genres_names[i], budget_adj_mean[i], revenues_adj_mean[i], oscar_nominations[i], oscar_wins[i]]\n",
    "    to_df.append(my_list)\n",
    "\n",
    "genres_df = pd.DataFrame(to_df, columns = ['genre', 'budget', 'revenue', 'oscar_nominations', 'oscar_wins']) "
   ]
  },
  {
   "cell_type": "code",
   "execution_count": 399,
   "metadata": {},
   "outputs": [
    {
     "data": {
      "text/html": [
       "<div>\n",
       "<style scoped>\n",
       "    .dataframe tbody tr th:only-of-type {\n",
       "        vertical-align: middle;\n",
       "    }\n",
       "\n",
       "    .dataframe tbody tr th {\n",
       "        vertical-align: top;\n",
       "    }\n",
       "\n",
       "    .dataframe thead th {\n",
       "        text-align: right;\n",
       "    }\n",
       "</style>\n",
       "<table border=\"1\" class=\"dataframe\">\n",
       "  <thead>\n",
       "    <tr style=\"text-align: right;\">\n",
       "      <th></th>\n",
       "      <th>genre</th>\n",
       "      <th>budget</th>\n",
       "      <th>revenue</th>\n",
       "      <th>oscar_nominations</th>\n",
       "      <th>oscar_wins</th>\n",
       "    </tr>\n",
       "  </thead>\n",
       "  <tbody>\n",
       "    <tr>\n",
       "      <th>0</th>\n",
       "      <td>comedy</td>\n",
       "      <td>16.878112</td>\n",
       "      <td>43.847863</td>\n",
       "      <td>45.0</td>\n",
       "      <td>7.0</td>\n",
       "    </tr>\n",
       "    <tr>\n",
       "      <th>1</th>\n",
       "      <td>drama</td>\n",
       "      <td>13.754486</td>\n",
       "      <td>30.100474</td>\n",
       "      <td>291.0</td>\n",
       "      <td>60.0</td>\n",
       "    </tr>\n",
       "    <tr>\n",
       "      <th>2</th>\n",
       "      <td>horror</td>\n",
       "      <td>6.924493</td>\n",
       "      <td>17.873654</td>\n",
       "      <td>3.0</td>\n",
       "      <td>1.0</td>\n",
       "    </tr>\n",
       "    <tr>\n",
       "      <th>3</th>\n",
       "      <td>adventure</td>\n",
       "      <td>52.896315</td>\n",
       "      <td>153.355885</td>\n",
       "      <td>14.0</td>\n",
       "      <td>2.0</td>\n",
       "    </tr>\n",
       "    <tr>\n",
       "      <th>4</th>\n",
       "      <td>fantasy</td>\n",
       "      <td>46.038945</td>\n",
       "      <td>138.644258</td>\n",
       "      <td>7.0</td>\n",
       "      <td>0.0</td>\n",
       "    </tr>\n",
       "    <tr>\n",
       "      <th>5</th>\n",
       "      <td>thriller</td>\n",
       "      <td>19.885447</td>\n",
       "      <td>43.716633</td>\n",
       "      <td>54.0</td>\n",
       "      <td>12.0</td>\n",
       "    </tr>\n",
       "    <tr>\n",
       "      <th>6</th>\n",
       "      <td>science fiction</td>\n",
       "      <td>32.986638</td>\n",
       "      <td>88.752090</td>\n",
       "      <td>3.0</td>\n",
       "      <td>0.0</td>\n",
       "    </tr>\n",
       "    <tr>\n",
       "      <th>7</th>\n",
       "      <td>action</td>\n",
       "      <td>36.729493</td>\n",
       "      <td>91.910526</td>\n",
       "      <td>22.0</td>\n",
       "      <td>5.0</td>\n",
       "    </tr>\n",
       "    <tr>\n",
       "      <th>8</th>\n",
       "      <td>crime</td>\n",
       "      <td>22.435637</td>\n",
       "      <td>48.033432</td>\n",
       "      <td>44.0</td>\n",
       "      <td>9.0</td>\n",
       "    </tr>\n",
       "    <tr>\n",
       "      <th>9</th>\n",
       "      <td>family</td>\n",
       "      <td>31.958533</td>\n",
       "      <td>95.348340</td>\n",
       "      <td>1.0</td>\n",
       "      <td>0.0</td>\n",
       "    </tr>\n",
       "    <tr>\n",
       "      <th>10</th>\n",
       "      <td>animation</td>\n",
       "      <td>27.533475</td>\n",
       "      <td>86.158019</td>\n",
       "      <td>0.0</td>\n",
       "      <td>0.0</td>\n",
       "    </tr>\n",
       "    <tr>\n",
       "      <th>11</th>\n",
       "      <td>mystery</td>\n",
       "      <td>19.504188</td>\n",
       "      <td>44.206497</td>\n",
       "      <td>24.0</td>\n",
       "      <td>5.0</td>\n",
       "    </tr>\n",
       "  </tbody>\n",
       "</table>\n",
       "</div>"
      ],
      "text/plain": [
       "              genre     budget     revenue  oscar_nominations  oscar_wins\n",
       "0            comedy  16.878112   43.847863               45.0         7.0\n",
       "1             drama  13.754486   30.100474              291.0        60.0\n",
       "2            horror   6.924493   17.873654                3.0         1.0\n",
       "3         adventure  52.896315  153.355885               14.0         2.0\n",
       "4           fantasy  46.038945  138.644258                7.0         0.0\n",
       "5          thriller  19.885447   43.716633               54.0        12.0\n",
       "6   science fiction  32.986638   88.752090                3.0         0.0\n",
       "7            action  36.729493   91.910526               22.0         5.0\n",
       "8             crime  22.435637   48.033432               44.0         9.0\n",
       "9            family  31.958533   95.348340                1.0         0.0\n",
       "10        animation  27.533475   86.158019                0.0         0.0\n",
       "11          mystery  19.504188   44.206497               24.0         5.0"
      ]
     },
     "execution_count": 399,
     "metadata": {},
     "output_type": "execute_result"
    }
   ],
   "source": [
    "genres_df"
   ]
  },
  {
   "cell_type": "code",
   "execution_count": 400,
   "metadata": {},
   "outputs": [],
   "source": [
    "genres_df.sort_values(by = ['revenue'], inplace = True, ascending = False)\n",
    "genres_df['profit'] = genres_df['revenue'] - genres_df['budget']"
   ]
  },
  {
   "cell_type": "code",
   "execution_count": 401,
   "metadata": {},
   "outputs": [
    {
     "data": {
      "text/html": [
       "<div>\n",
       "<style scoped>\n",
       "    .dataframe tbody tr th:only-of-type {\n",
       "        vertical-align: middle;\n",
       "    }\n",
       "\n",
       "    .dataframe tbody tr th {\n",
       "        vertical-align: top;\n",
       "    }\n",
       "\n",
       "    .dataframe thead th {\n",
       "        text-align: right;\n",
       "    }\n",
       "</style>\n",
       "<table border=\"1\" class=\"dataframe\">\n",
       "  <thead>\n",
       "    <tr style=\"text-align: right;\">\n",
       "      <th></th>\n",
       "      <th>genre</th>\n",
       "      <th>budget</th>\n",
       "      <th>revenue</th>\n",
       "      <th>oscar_nominations</th>\n",
       "      <th>oscar_wins</th>\n",
       "      <th>profit</th>\n",
       "    </tr>\n",
       "  </thead>\n",
       "  <tbody>\n",
       "    <tr>\n",
       "      <th>0</th>\n",
       "      <td>adventure</td>\n",
       "      <td>52.896315</td>\n",
       "      <td>153.355885</td>\n",
       "      <td>14.0</td>\n",
       "      <td>2.0</td>\n",
       "      <td>100.459571</td>\n",
       "    </tr>\n",
       "    <tr>\n",
       "      <th>1</th>\n",
       "      <td>fantasy</td>\n",
       "      <td>46.038945</td>\n",
       "      <td>138.644258</td>\n",
       "      <td>7.0</td>\n",
       "      <td>0.0</td>\n",
       "      <td>92.605313</td>\n",
       "    </tr>\n",
       "    <tr>\n",
       "      <th>2</th>\n",
       "      <td>family</td>\n",
       "      <td>31.958533</td>\n",
       "      <td>95.348340</td>\n",
       "      <td>1.0</td>\n",
       "      <td>0.0</td>\n",
       "      <td>63.389808</td>\n",
       "    </tr>\n",
       "    <tr>\n",
       "      <th>3</th>\n",
       "      <td>action</td>\n",
       "      <td>36.729493</td>\n",
       "      <td>91.910526</td>\n",
       "      <td>22.0</td>\n",
       "      <td>5.0</td>\n",
       "      <td>55.181033</td>\n",
       "    </tr>\n",
       "    <tr>\n",
       "      <th>4</th>\n",
       "      <td>science fiction</td>\n",
       "      <td>32.986638</td>\n",
       "      <td>88.752090</td>\n",
       "      <td>3.0</td>\n",
       "      <td>0.0</td>\n",
       "      <td>55.765451</td>\n",
       "    </tr>\n",
       "  </tbody>\n",
       "</table>\n",
       "</div>"
      ],
      "text/plain": [
       "             genre     budget     revenue  oscar_nominations  oscar_wins  \\\n",
       "0        adventure  52.896315  153.355885               14.0         2.0   \n",
       "1          fantasy  46.038945  138.644258                7.0         0.0   \n",
       "2           family  31.958533   95.348340                1.0         0.0   \n",
       "3           action  36.729493   91.910526               22.0         5.0   \n",
       "4  science fiction  32.986638   88.752090                3.0         0.0   \n",
       "\n",
       "       profit  \n",
       "0  100.459571  \n",
       "1   92.605313  \n",
       "2   63.389808  \n",
       "3   55.181033  \n",
       "4   55.765451  "
      ]
     },
     "execution_count": 401,
     "metadata": {},
     "output_type": "execute_result"
    }
   ],
   "source": [
    "genres_df = genres_df.reset_index().drop(columns = ['index'])\n",
    "genres_df.head()"
   ]
  },
  {
   "cell_type": "markdown",
   "metadata": {},
   "source": [
    "## Analysis & Visualizations (Genres)"
   ]
  },
  {
   "cell_type": "code",
   "execution_count": 402,
   "metadata": {},
   "outputs": [
    {
     "data": {
      "text/plain": [
       "Text(0,0.5,'Mean Revenue in Millions of Dollars')"
      ]
     },
     "execution_count": 402,
     "metadata": {},
     "output_type": "execute_result"
    },
    {
     "data": {
      "image/png": "[encoded data removed]",
      "text/plain": [
       "<Figure size 1080x432 with 1 Axes>"
      ]
     },
     "metadata": {},
     "output_type": "display_data"
    }
   ],
   "source": [
    "plt.figure(figsize = (15,6))\n",
    "sns.barplot(x = 'genre', y = 'revenue', data = genres_df)\n",
    "plt.title('Mean Gross Revenues by Genre')\n",
    "plt.ylabel('Mean Revenue in Millions of Dollars')"
   ]
  },
  {
   "cell_type": "code",
   "execution_count": 403,
   "metadata": {},
   "outputs": [
    {
     "data": {
      "text/plain": [
       "Text(0,0.5,'Mean Profit in Millions of Dollars')"
      ]
     },
     "execution_count": 403,
     "metadata": {},
     "output_type": "execute_result"
    },
    {
     "data": {
      "image/png": "[encoded data removed]",
      "text/plain": [
       "<Figure size 1080x432 with 1 Axes>"
      ]
     },
     "metadata": {},
     "output_type": "display_data"
    }
   ],
   "source": [
    "genres_df.sort_values(by = ['profit'], inplace = True, ascending = False)\n",
    "plt.figure(figsize = (15,6))\n",
    "sns.barplot(x = 'genre', y = 'profit', data = genres_df)\n",
    "plt.title('Mean Profit by Genre')\n",
    "plt.ylabel('Mean Profit in Millions of Dollars')"
   ]
  },
  {
   "cell_type": "code",
   "execution_count": 404,
   "metadata": {},
   "outputs": [],
   "source": [
    "#plt.figure(figsize = (14,10))\n",
    "#squarify.plot(sizes = genres_df['profit'], label = genres_df['genre'])"
   ]
  },
  {
   "cell_type": "markdown",
   "metadata": {},
   "source": [
    "#### So it looks like we should go for adventure/fantasy, right? BUT WAIT! Microsoft wants a good film. It has a bunch of streaming content ready to go. Microsoft believes that the first film needs to make waves and gain attention for the platform, so we definitely want an oscar nod."
   ]
  },
  {
   "cell_type": "code",
   "execution_count": 405,
   "metadata": {},
   "outputs": [
    {
     "data": {
      "text/plain": [
       "<matplotlib.axes._subplots.AxesSubplot at 0x1a35317d30>"
      ]
     },
     "execution_count": 405,
     "metadata": {},
     "output_type": "execute_result"
    },
    {
     "data": {
      "image/png": "[encoded data removed]",
      "text/plain": [
       "<Figure size 1080x432 with 1 Axes>"
      ]
     },
     "metadata": {},
     "output_type": "display_data"
    }
   ],
   "source": [
    "genres_df.sort_values(by = ['oscar_nominations'], ascending = False, inplace = True)\n",
    "plt.figure(figsize = (15,6))\n",
    "sns.barplot(x = 'genre', y = 'oscar_nominations', data = genres_df)\n",
    "# add labels\n",
    "# can I stack wins?\n"
   ]
  },
  {
   "cell_type": "code",
   "execution_count": 406,
   "metadata": {},
   "outputs": [],
   "source": [
    "# plt.figure(figsize = (14,10))\n",
    "# genres_df2 = genres_df[genres_df['oscar_nominations'] > 0]\n",
    "# squarify.plot(sizes = genres_df2['oscar_nominations'], label = genres_df2['genre'])"
   ]
  },
  {
   "cell_type": "markdown",
   "metadata": {},
   "source": [
    "note! The above is actually counting multiple nominations (should we do it just if nominated?). This is probably ok, though."
   ]
  },
  {
   "cell_type": "markdown",
   "metadata": {},
   "source": [
    "New Question! Maybe we can combine genres.\n",
    "Are there **drama/adventure**, **drama/fantasy**, **drama/comedy** films?\n",
    "Note...remember to sort by highest grossing."
   ]
  },
  {
   "cell_type": "code",
   "execution_count": 407,
   "metadata": {},
   "outputs": [],
   "source": [
    "drama_adventure = tmdb_cleaned[tmdb_cleaned['genres'].apply(lambda x: ('Drama' in x) & ('Adventure' in x))]\n",
    "drama_fantasy = tmdb_cleaned[tmdb_cleaned['genres'].apply(lambda x: ('Drama' in x) & ('Fantasy' in x))]\n",
    "drama_comedy = tmdb_cleaned[tmdb_cleaned['genres'].apply(lambda x: ('Drama' in x) & ('Comedy' in x))]"
   ]
  },
  {
   "cell_type": "code",
   "execution_count": 408,
   "metadata": {},
   "outputs": [],
   "source": [
    "drama_adventure = drama_adventure.sort_values(by = ['revenue_adj'], ascending = False)\n",
    "drama_fantasy = drama_fantasy.sort_values(by = ['revenue_adj'], ascending = False)\n",
    "drama_comedy = drama_comedy.sort_values(by = ['revenue_adj'], ascending = False)"
   ]
  },
  {
   "cell_type": "markdown",
   "metadata": {},
   "source": [
    "We could try exploring this data ^ by profit rather than revenue, too"
   ]
  },
  {
   "cell_type": "code",
   "execution_count": 409,
   "metadata": {},
   "outputs": [
    {
     "data": {
      "text/plain": [
       "4413    The Twilight Saga: Breaking Dawn - Part 2\n",
       "1405                  The Twilight Saga: New Moon\n",
       "1959                   The Twilight Saga: Eclipse\n",
       "6215                                    King Kong\n",
       "8661                                    Gladiator\n",
       "4374                                   Life of Pi\n",
       "6969                                         Troy\n",
       "629                                  Interstellar\n",
       "7                                     The Martian\n",
       "8664                                    Cast Away\n",
       "2643                            The Mummy Returns\n",
       "1394                              Sherlock Holmes\n",
       "5                                    The Revenant\n",
       "2880                                     Twilight\n",
       "4372                  Snow White and the Huntsman\n",
       "Name: original_title, dtype: object"
      ]
     },
     "execution_count": 409,
     "metadata": {},
     "output_type": "execute_result"
    }
   ],
   "source": [
    "drama_adventure.head(15)['original_title']"
   ]
  },
  {
   "cell_type": "code",
   "execution_count": 410,
   "metadata": {},
   "outputs": [
    {
     "data": {
      "text/plain": [
       "4413    The Twilight Saga: Breaking Dawn - Part 2\n",
       "1405                  The Twilight Saga: New Moon\n",
       "1959                   The Twilight Saga: Eclipse\n",
       "2643                            The Mummy Returns\n",
       "18                                     Cinderella\n",
       "2880                                     Twilight\n",
       "4372                  Snow White and the Huntsman\n",
       "2885          The Curious Case of Benjamin Button\n",
       "2898                                    10,000 BC\n",
       "6201                                  Constantine\n",
       "6572                                        Click\n",
       "3437                                    Immortals\n",
       "1941                    The Sorcerer's Apprentice\n",
       "671                                Dracula Untold\n",
       "5446              The Secret Life of Walter Mitty\n",
       "Name: original_title, dtype: object"
      ]
     },
     "execution_count": 410,
     "metadata": {},
     "output_type": "execute_result"
    }
   ],
   "source": [
    "drama_fantasy.head(15)['original_title']"
   ]
  },
  {
   "cell_type": "code",
   "execution_count": 411,
   "metadata": {},
   "outputs": [
    {
     "data": {
      "text/plain": [
       "6224            Mr. & Mrs. Smith\n",
       "1394             Sherlock Holmes\n",
       "3943    My Big Fat Greek Wedding\n",
       "3017            Sex and the City\n",
       "6209                       Hitch\n",
       "4006                     Chicago\n",
       "5428     The Wolf of Wall Street\n",
       "6562       The Devil Wears Prada\n",
       "2640       Bridget Jones's Diary\n",
       "1408                The Proposal\n",
       "5003      Something's Gotta Give\n",
       "4957               Love Actually\n",
       "2008          Sex and the City 2\n",
       "6572                       Click\n",
       "6988                The Terminal\n",
       "Name: original_title, dtype: object"
      ]
     },
     "execution_count": 411,
     "metadata": {},
     "output_type": "execute_result"
    }
   ],
   "source": [
    "drama_comedy.head(15)['original_title']"
   ]
  },
  {
   "cell_type": "code",
   "execution_count": 412,
   "metadata": {},
   "outputs": [],
   "source": [
    "drama_adventure_oscars = drama_adventure.merge(nominations, left_on = 'original_title', right_on = 'Film', how = 'inner')\n",
    "drama_fantasy_oscars = drama_fantasy.merge(nominations, left_on = 'original_title', right_on = 'Film', how = 'inner')\n",
    "drama_comedy_oscars = drama_comedy.merge(nominations, left_on = 'original_title', right_on = 'Film', how = 'inner')"
   ]
  },
  {
   "cell_type": "code",
   "execution_count": 413,
   "metadata": {},
   "outputs": [
    {
     "data": {
      "text/plain": [
       "0        Gladiator\n",
       "1      The Martian\n",
       "2        Cast Away\n",
       "3     The Revenant\n",
       "4        True Grit\n",
       "5    Into the Wild\n",
       "6        127 Hours\n",
       "7         Nebraska\n",
       "Name: original_title, dtype: object"
      ]
     },
     "execution_count": 413,
     "metadata": {},
     "output_type": "execute_result"
    }
   ],
   "source": [
    "drama_adventure_oscars.head(15)['original_title']"
   ]
  },
  {
   "cell_type": "code",
   "execution_count": 414,
   "metadata": {},
   "outputs": [
    {
     "data": {
      "text/plain": [
       "0    The Curious Case of Benjamin Button\n",
       "1                       The Lovely Bones\n",
       "2            Beasts of the Southern Wild\n",
       "Name: original_title, dtype: object"
      ]
     },
     "execution_count": 414,
     "metadata": {},
     "output_type": "execute_result"
    }
   ],
   "source": [
    "drama_fantasy_oscars.head(15)['original_title']"
   ]
  },
  {
   "cell_type": "code",
   "execution_count": 415,
   "metadata": {},
   "outputs": [
    {
     "data": {
      "text/plain": [
       "0                    Chicago\n",
       "1    The Wolf of Wall Street\n",
       "2      The Devil Wears Prada\n",
       "3      Bridget Jones's Diary\n",
       "4     Something's Gotta Give\n",
       "5                       Juno\n",
       "6    Silver Linings Playbook\n",
       "7                   Chocolat\n",
       "8            The Descendants\n",
       "9               Billy Elliot\n",
       "Name: original_title, dtype: object"
      ]
     },
     "execution_count": 415,
     "metadata": {},
     "output_type": "execute_result"
    }
   ],
   "source": [
    "drama_comedy_oscars.head(10)['original_title']"
   ]
  },
  {
   "cell_type": "code",
   "execution_count": 416,
   "metadata": {},
   "outputs": [
    {
     "name": "stdout",
     "output_type": "stream",
     "text": [
      "8\n",
      "3\n",
      "25\n"
     ]
    }
   ],
   "source": [
    "print(len(drama_adventure_oscars['original_title']))\n",
    "print(len(drama_fantasy_oscars['original_title']))\n",
    "print(len(drama_comedy_oscars['original_title']))"
   ]
  },
  {
   "cell_type": "markdown",
   "metadata": {},
   "source": [
    "## Microsoft -- make a drama/comedy! It's the sweet spot between making bank and oscar nods!\n",
    "Great ones to model include Juno, The Wolf of Wall Street, The Devil Wears Prada, Silver Linings Playbook. All of these were high grossing films that also got oscar nominations."
   ]
  },
  {
   "cell_type": "markdown",
   "metadata": {},
   "source": [
    "#### Microsoft -- as a close second choice, make a drama/adventure film!\n",
    "Great ones to model include Gladiator, The Martian, Cast Away, True Grit, Into the Wild, 127 Hours, and Cast Away. All of these were high grossing films that also got oscar nominations."
   ]
  },
  {
   "cell_type": "markdown",
   "metadata": {},
   "source": [
    "## Now we have to figure out who should direct and write the film (given a drama/comedy)"
   ]
  },
  {
   "cell_type": "code",
   "execution_count": 417,
   "metadata": {},
   "outputs": [
    {
     "data": {
      "text/html": [
       "<div>\n",
       "<style scoped>\n",
       "    .dataframe tbody tr th:only-of-type {\n",
       "        vertical-align: middle;\n",
       "    }\n",
       "\n",
       "    .dataframe tbody tr th {\n",
       "        vertical-align: top;\n",
       "    }\n",
       "\n",
       "    .dataframe thead th {\n",
       "        text-align: right;\n",
       "    }\n",
       "</style>\n",
       "<table border=\"1\" class=\"dataframe\">\n",
       "  <thead>\n",
       "    <tr style=\"text-align: right;\">\n",
       "      <th></th>\n",
       "      <th>imdb_id</th>\n",
       "      <th>popularity</th>\n",
       "      <th>budget</th>\n",
       "      <th>revenue</th>\n",
       "      <th>original_title</th>\n",
       "      <th>cast</th>\n",
       "      <th>director</th>\n",
       "      <th>genres</th>\n",
       "      <th>vote_count</th>\n",
       "      <th>vote_average</th>\n",
       "      <th>release_year</th>\n",
       "      <th>budget_adj</th>\n",
       "      <th>revenue_adj</th>\n",
       "      <th>profit</th>\n",
       "    </tr>\n",
       "  </thead>\n",
       "  <tbody>\n",
       "    <tr>\n",
       "      <th>6224</th>\n",
       "      <td>tt0356910</td>\n",
       "      <td>1.330824</td>\n",
       "      <td>110.0</td>\n",
       "      <td>478.207520</td>\n",
       "      <td>Mr. &amp; Mrs. Smith</td>\n",
       "      <td>[Angelina Jolie, Brad Pitt, Vince Vaughn, Adam...</td>\n",
       "      <td>Doug Liman</td>\n",
       "      <td>[Action, Comedy, Drama, Thriller]</td>\n",
       "      <td>1750</td>\n",
       "      <td>6.5</td>\n",
       "      <td>2005</td>\n",
       "      <td>122.821962</td>\n",
       "      <td>533.948962</td>\n",
       "      <td>411.127000</td>\n",
       "    </tr>\n",
       "    <tr>\n",
       "      <th>1394</th>\n",
       "      <td>tt0988045</td>\n",
       "      <td>3.431559</td>\n",
       "      <td>90.0</td>\n",
       "      <td>524.028679</td>\n",
       "      <td>Sherlock Holmes</td>\n",
       "      <td>[Robert Downey Jr., Jude Law, Rachel McAdams, ...</td>\n",
       "      <td>Guy Ritchie</td>\n",
       "      <td>[Adventure, Drama, Action, Comedy, Thriller]</td>\n",
       "      <td>4118</td>\n",
       "      <td>6.9</td>\n",
       "      <td>2009</td>\n",
       "      <td>91.476039</td>\n",
       "      <td>532.622977</td>\n",
       "      <td>441.146938</td>\n",
       "    </tr>\n",
       "    <tr>\n",
       "      <th>3943</th>\n",
       "      <td>tt0259446</td>\n",
       "      <td>1.271588</td>\n",
       "      <td>5.0</td>\n",
       "      <td>368.744044</td>\n",
       "      <td>My Big Fat Greek Wedding</td>\n",
       "      <td>[Nia Vardalos, John Corbett, Lainie Kazan, Mic...</td>\n",
       "      <td>Joel Zwick</td>\n",
       "      <td>[Comedy, Drama, Romance]</td>\n",
       "      <td>395</td>\n",
       "      <td>6.1</td>\n",
       "      <td>2002</td>\n",
       "      <td>6.061307</td>\n",
       "      <td>447.014169</td>\n",
       "      <td>440.952862</td>\n",
       "    </tr>\n",
       "    <tr>\n",
       "      <th>3017</th>\n",
       "      <td>tt1000774</td>\n",
       "      <td>0.620489</td>\n",
       "      <td>65.0</td>\n",
       "      <td>415.252786</td>\n",
       "      <td>Sex and the City</td>\n",
       "      <td>[Sarah Jessica Parker, Kim Cattrall, Cynthia N...</td>\n",
       "      <td>Michael Patrick King</td>\n",
       "      <td>[Comedy, Drama, Romance]</td>\n",
       "      <td>309</td>\n",
       "      <td>6.1</td>\n",
       "      <td>2008</td>\n",
       "      <td>65.831131</td>\n",
       "      <td>420.562471</td>\n",
       "      <td>354.731340</td>\n",
       "    </tr>\n",
       "    <tr>\n",
       "      <th>6209</th>\n",
       "      <td>tt0386588</td>\n",
       "      <td>1.726470</td>\n",
       "      <td>70.0</td>\n",
       "      <td>368.100420</td>\n",
       "      <td>Hitch</td>\n",
       "      <td>[Will Smith, Eva Mendes, Kevin James, Amber Va...</td>\n",
       "      <td>Andy Tennant</td>\n",
       "      <td>[Comedy, Drama, Romance]</td>\n",
       "      <td>1010</td>\n",
       "      <td>6.3</td>\n",
       "      <td>2005</td>\n",
       "      <td>78.159430</td>\n",
       "      <td>411.007416</td>\n",
       "      <td>332.847986</td>\n",
       "    </tr>\n",
       "  </tbody>\n",
       "</table>\n",
       "</div>"
      ],
      "text/plain": [
       "        imdb_id  popularity  budget     revenue            original_title  \\\n",
       "6224  tt0356910    1.330824   110.0  478.207520          Mr. & Mrs. Smith   \n",
       "1394  tt0988045    3.431559    90.0  524.028679           Sherlock Holmes   \n",
       "3943  tt0259446    1.271588     5.0  368.744044  My Big Fat Greek Wedding   \n",
       "3017  tt1000774    0.620489    65.0  415.252786          Sex and the City   \n",
       "6209  tt0386588    1.726470    70.0  368.100420                     Hitch   \n",
       "\n",
       "                                                   cast              director  \\\n",
       "6224  [Angelina Jolie, Brad Pitt, Vince Vaughn, Adam...            Doug Liman   \n",
       "1394  [Robert Downey Jr., Jude Law, Rachel McAdams, ...           Guy Ritchie   \n",
       "3943  [Nia Vardalos, John Corbett, Lainie Kazan, Mic...            Joel Zwick   \n",
       "3017  [Sarah Jessica Parker, Kim Cattrall, Cynthia N...  Michael Patrick King   \n",
       "6209  [Will Smith, Eva Mendes, Kevin James, Amber Va...          Andy Tennant   \n",
       "\n",
       "                                            genres  vote_count  vote_average  \\\n",
       "6224             [Action, Comedy, Drama, Thriller]        1750           6.5   \n",
       "1394  [Adventure, Drama, Action, Comedy, Thriller]        4118           6.9   \n",
       "3943                      [Comedy, Drama, Romance]         395           6.1   \n",
       "3017                      [Comedy, Drama, Romance]         309           6.1   \n",
       "6209                      [Comedy, Drama, Romance]        1010           6.3   \n",
       "\n",
       "      release_year  budget_adj  revenue_adj      profit  \n",
       "6224          2005  122.821962   533.948962  411.127000  \n",
       "1394          2009   91.476039   532.622977  441.146938  \n",
       "3943          2002    6.061307   447.014169  440.952862  \n",
       "3017          2008   65.831131   420.562471  354.731340  \n",
       "6209          2005   78.159430   411.007416  332.847986  "
      ]
     },
     "execution_count": 417,
     "metadata": {},
     "output_type": "execute_result"
    }
   ],
   "source": [
    "drama_comedy.head()"
   ]
  },
  {
   "cell_type": "code",
   "execution_count": 418,
   "metadata": {},
   "outputs": [],
   "source": [
    "directors = drama_comedy[drama_comedy['profit'] > 10].groupby('director')"
   ]
  },
  {
   "cell_type": "code",
   "execution_count": 419,
   "metadata": {},
   "outputs": [
    {
     "data": {
      "text/html": [
       "<div>\n",
       "<style scoped>\n",
       "    .dataframe tbody tr th:only-of-type {\n",
       "        vertical-align: middle;\n",
       "    }\n",
       "\n",
       "    .dataframe tbody tr th {\n",
       "        vertical-align: top;\n",
       "    }\n",
       "\n",
       "    .dataframe thead th {\n",
       "        text-align: right;\n",
       "    }\n",
       "</style>\n",
       "<table border=\"1\" class=\"dataframe\">\n",
       "  <thead>\n",
       "    <tr style=\"text-align: right;\">\n",
       "      <th></th>\n",
       "      <th>popularity</th>\n",
       "      <th>budget</th>\n",
       "      <th>revenue</th>\n",
       "      <th>vote_count</th>\n",
       "      <th>vote_average</th>\n",
       "      <th>release_year</th>\n",
       "      <th>budget_adj</th>\n",
       "      <th>revenue_adj</th>\n",
       "      <th>profit</th>\n",
       "    </tr>\n",
       "    <tr>\n",
       "      <th>director</th>\n",
       "      <th></th>\n",
       "      <th></th>\n",
       "      <th></th>\n",
       "      <th></th>\n",
       "      <th></th>\n",
       "      <th></th>\n",
       "      <th></th>\n",
       "      <th></th>\n",
       "      <th></th>\n",
       "    </tr>\n",
       "  </thead>\n",
       "  <tbody>\n",
       "    <tr>\n",
       "      <th>Guy Ritchie</th>\n",
       "      <td>3.431559</td>\n",
       "      <td>90.0</td>\n",
       "      <td>524.028679</td>\n",
       "      <td>4118.0</td>\n",
       "      <td>6.9</td>\n",
       "      <td>2009.0</td>\n",
       "      <td>91.476039</td>\n",
       "      <td>532.622977</td>\n",
       "      <td>441.146938</td>\n",
       "    </tr>\n",
       "    <tr>\n",
       "      <th>Joel Zwick</th>\n",
       "      <td>1.271588</td>\n",
       "      <td>5.0</td>\n",
       "      <td>368.744044</td>\n",
       "      <td>395.0</td>\n",
       "      <td>6.1</td>\n",
       "      <td>2002.0</td>\n",
       "      <td>6.061307</td>\n",
       "      <td>447.014169</td>\n",
       "      <td>440.952862</td>\n",
       "    </tr>\n",
       "    <tr>\n",
       "      <th>Doug Liman</th>\n",
       "      <td>1.330824</td>\n",
       "      <td>110.0</td>\n",
       "      <td>478.207520</td>\n",
       "      <td>1750.0</td>\n",
       "      <td>6.5</td>\n",
       "      <td>2005.0</td>\n",
       "      <td>122.821962</td>\n",
       "      <td>533.948962</td>\n",
       "      <td>411.127000</td>\n",
       "    </tr>\n",
       "    <tr>\n",
       "      <th>Andy Tennant</th>\n",
       "      <td>1.726470</td>\n",
       "      <td>70.0</td>\n",
       "      <td>368.100420</td>\n",
       "      <td>1010.0</td>\n",
       "      <td>6.3</td>\n",
       "      <td>2005.0</td>\n",
       "      <td>78.159430</td>\n",
       "      <td>411.007416</td>\n",
       "      <td>332.847986</td>\n",
       "    </tr>\n",
       "    <tr>\n",
       "      <th>Rob Marshall</th>\n",
       "      <td>0.608347</td>\n",
       "      <td>45.0</td>\n",
       "      <td>306.776732</td>\n",
       "      <td>361.0</td>\n",
       "      <td>6.5</td>\n",
       "      <td>2002.0</td>\n",
       "      <td>54.551763</td>\n",
       "      <td>371.893589</td>\n",
       "      <td>317.341826</td>\n",
       "    </tr>\n",
       "    <tr>\n",
       "      <th>Sharon Maguire</th>\n",
       "      <td>2.717399</td>\n",
       "      <td>25.0</td>\n",
       "      <td>281.929795</td>\n",
       "      <td>751.0</td>\n",
       "      <td>6.5</td>\n",
       "      <td>2001.0</td>\n",
       "      <td>30.787203</td>\n",
       "      <td>347.193192</td>\n",
       "      <td>316.405989</td>\n",
       "    </tr>\n",
       "    <tr>\n",
       "      <th>Anne Fletcher</th>\n",
       "      <td>1.895894</td>\n",
       "      <td>40.0</td>\n",
       "      <td>317.375031</td>\n",
       "      <td>1084.0</td>\n",
       "      <td>6.7</td>\n",
       "      <td>2009.0</td>\n",
       "      <td>40.656017</td>\n",
       "      <td>322.580119</td>\n",
       "      <td>281.924102</td>\n",
       "    </tr>\n",
       "    <tr>\n",
       "      <th>Martin Scorsese</th>\n",
       "      <td>4.877927</td>\n",
       "      <td>100.0</td>\n",
       "      <td>392.000694</td>\n",
       "      <td>4027.0</td>\n",
       "      <td>7.9</td>\n",
       "      <td>2013.0</td>\n",
       "      <td>93.603335</td>\n",
       "      <td>366.925724</td>\n",
       "      <td>273.322389</td>\n",
       "    </tr>\n",
       "    <tr>\n",
       "      <th>Michael Patrick King</th>\n",
       "      <td>0.802625</td>\n",
       "      <td>82.5</td>\n",
       "      <td>351.800239</td>\n",
       "      <td>292.0</td>\n",
       "      <td>5.8</td>\n",
       "      <td>2009.0</td>\n",
       "      <td>82.915566</td>\n",
       "      <td>354.455082</td>\n",
       "      <td>271.539516</td>\n",
       "    </tr>\n",
       "    <tr>\n",
       "      <th>Nancy Meyers</th>\n",
       "      <td>1.005582</td>\n",
       "      <td>80.0</td>\n",
       "      <td>266.728738</td>\n",
       "      <td>236.0</td>\n",
       "      <td>6.2</td>\n",
       "      <td>2003.0</td>\n",
       "      <td>94.828212</td>\n",
       "      <td>316.167615</td>\n",
       "      <td>221.339403</td>\n",
       "    </tr>\n",
       "  </tbody>\n",
       "</table>\n",
       "</div>"
      ],
      "text/plain": [
       "                      popularity  budget     revenue  vote_count  \\\n",
       "director                                                           \n",
       "Guy Ritchie             3.431559    90.0  524.028679      4118.0   \n",
       "Joel Zwick              1.271588     5.0  368.744044       395.0   \n",
       "Doug Liman              1.330824   110.0  478.207520      1750.0   \n",
       "Andy Tennant            1.726470    70.0  368.100420      1010.0   \n",
       "Rob Marshall            0.608347    45.0  306.776732       361.0   \n",
       "Sharon Maguire          2.717399    25.0  281.929795       751.0   \n",
       "Anne Fletcher           1.895894    40.0  317.375031      1084.0   \n",
       "Martin Scorsese         4.877927   100.0  392.000694      4027.0   \n",
       "Michael Patrick King    0.802625    82.5  351.800239       292.0   \n",
       "Nancy Meyers            1.005582    80.0  266.728738       236.0   \n",
       "\n",
       "                      vote_average  release_year  budget_adj  revenue_adj  \\\n",
       "director                                                                    \n",
       "Guy Ritchie                    6.9        2009.0   91.476039   532.622977   \n",
       "Joel Zwick                     6.1        2002.0    6.061307   447.014169   \n",
       "Doug Liman                     6.5        2005.0  122.821962   533.948962   \n",
       "Andy Tennant                   6.3        2005.0   78.159430   411.007416   \n",
       "Rob Marshall                   6.5        2002.0   54.551763   371.893589   \n",
       "Sharon Maguire                 6.5        2001.0   30.787203   347.193192   \n",
       "Anne Fletcher                  6.7        2009.0   40.656017   322.580119   \n",
       "Martin Scorsese                7.9        2013.0   93.603335   366.925724   \n",
       "Michael Patrick King           5.8        2009.0   82.915566   354.455082   \n",
       "Nancy Meyers                   6.2        2003.0   94.828212   316.167615   \n",
       "\n",
       "                          profit  \n",
       "director                          \n",
       "Guy Ritchie           441.146938  \n",
       "Joel Zwick            440.952862  \n",
       "Doug Liman            411.127000  \n",
       "Andy Tennant          332.847986  \n",
       "Rob Marshall          317.341826  \n",
       "Sharon Maguire        316.405989  \n",
       "Anne Fletcher         281.924102  \n",
       "Martin Scorsese       273.322389  \n",
       "Michael Patrick King  271.539516  \n",
       "Nancy Meyers          221.339403  "
      ]
     },
     "execution_count": 419,
     "metadata": {},
     "output_type": "execute_result"
    }
   ],
   "source": [
    "directors_by_profit = directors.mean().sort_values(by = ['profit'], ascending = False)[:10]\n",
    "directors_by_profit"
   ]
  },
  {
   "cell_type": "code",
   "execution_count": 420,
   "metadata": {},
   "outputs": [
    {
     "data": {
      "text/html": [
       "<div>\n",
       "<style scoped>\n",
       "    .dataframe tbody tr th:only-of-type {\n",
       "        vertical-align: middle;\n",
       "    }\n",
       "\n",
       "    .dataframe tbody tr th {\n",
       "        vertical-align: top;\n",
       "    }\n",
       "\n",
       "    .dataframe thead th {\n",
       "        text-align: right;\n",
       "    }\n",
       "</style>\n",
       "<table border=\"1\" class=\"dataframe\">\n",
       "  <thead>\n",
       "    <tr style=\"text-align: right;\">\n",
       "      <th></th>\n",
       "      <th>popularity</th>\n",
       "      <th>budget</th>\n",
       "      <th>revenue</th>\n",
       "      <th>vote_count</th>\n",
       "      <th>vote_average</th>\n",
       "      <th>release_year</th>\n",
       "      <th>budget_adj</th>\n",
       "      <th>revenue_adj</th>\n",
       "      <th>profit</th>\n",
       "    </tr>\n",
       "    <tr>\n",
       "      <th>director</th>\n",
       "      <th></th>\n",
       "      <th></th>\n",
       "      <th></th>\n",
       "      <th></th>\n",
       "      <th></th>\n",
       "      <th></th>\n",
       "      <th></th>\n",
       "      <th></th>\n",
       "      <th></th>\n",
       "    </tr>\n",
       "  </thead>\n",
       "  <tbody>\n",
       "    <tr>\n",
       "      <th>Martin Scorsese</th>\n",
       "      <td>4.877927</td>\n",
       "      <td>100.000000</td>\n",
       "      <td>392.000694</td>\n",
       "      <td>4027.000000</td>\n",
       "      <td>7.9</td>\n",
       "      <td>2013.0</td>\n",
       "      <td>93.603335</td>\n",
       "      <td>366.925724</td>\n",
       "      <td>273.322389</td>\n",
       "    </tr>\n",
       "    <tr>\n",
       "      <th>Rajkumar Hirani</th>\n",
       "      <td>0.816681</td>\n",
       "      <td>9.000000</td>\n",
       "      <td>70.000000</td>\n",
       "      <td>662.000000</td>\n",
       "      <td>7.8</td>\n",
       "      <td>2009.0</td>\n",
       "      <td>9.147604</td>\n",
       "      <td>71.148030</td>\n",
       "      <td>62.000426</td>\n",
       "    </tr>\n",
       "    <tr>\n",
       "      <th>Wes Anderson</th>\n",
       "      <td>2.816630</td>\n",
       "      <td>22.333333</td>\n",
       "      <td>104.768245</td>\n",
       "      <td>1485.666667</td>\n",
       "      <td>7.6</td>\n",
       "      <td>2009.0</td>\n",
       "      <td>22.896630</td>\n",
       "      <td>104.544797</td>\n",
       "      <td>81.648167</td>\n",
       "    </tr>\n",
       "    <tr>\n",
       "      <th>John Singleton</th>\n",
       "      <td>0.089976</td>\n",
       "      <td>16.000000</td>\n",
       "      <td>29.381649</td>\n",
       "      <td>29.000000</td>\n",
       "      <td>7.4</td>\n",
       "      <td>2001.0</td>\n",
       "      <td>19.703810</td>\n",
       "      <td>36.183152</td>\n",
       "      <td>16.479342</td>\n",
       "    </tr>\n",
       "    <tr>\n",
       "      <th>Richard Curtis</th>\n",
       "      <td>2.494576</td>\n",
       "      <td>20.000000</td>\n",
       "      <td>166.016108</td>\n",
       "      <td>1290.000000</td>\n",
       "      <td>7.3</td>\n",
       "      <td>2008.0</td>\n",
       "      <td>23.707053</td>\n",
       "      <td>185.929721</td>\n",
       "      <td>162.222668</td>\n",
       "    </tr>\n",
       "    <tr>\n",
       "      <th>John Lee Hancock</th>\n",
       "      <td>1.261132</td>\n",
       "      <td>35.000000</td>\n",
       "      <td>112.544580</td>\n",
       "      <td>811.000000</td>\n",
       "      <td>7.3</td>\n",
       "      <td>2013.0</td>\n",
       "      <td>32.761167</td>\n",
       "      <td>105.345481</td>\n",
       "      <td>72.584313</td>\n",
       "    </tr>\n",
       "    <tr>\n",
       "      <th>Jonathan Dayton|Valerie Faris</th>\n",
       "      <td>0.778589</td>\n",
       "      <td>8.000000</td>\n",
       "      <td>100.523181</td>\n",
       "      <td>952.000000</td>\n",
       "      <td>7.3</td>\n",
       "      <td>2006.0</td>\n",
       "      <td>8.653353</td>\n",
       "      <td>108.732825</td>\n",
       "      <td>100.079471</td>\n",
       "    </tr>\n",
       "    <tr>\n",
       "      <th>Marc Webb</th>\n",
       "      <td>3.244139</td>\n",
       "      <td>7.500000</td>\n",
       "      <td>60.722734</td>\n",
       "      <td>1778.000000</td>\n",
       "      <td>7.3</td>\n",
       "      <td>2009.0</td>\n",
       "      <td>7.623003</td>\n",
       "      <td>61.718613</td>\n",
       "      <td>54.095610</td>\n",
       "    </tr>\n",
       "    <tr>\n",
       "      <th>Martin McDonagh</th>\n",
       "      <td>1.054819</td>\n",
       "      <td>15.000000</td>\n",
       "      <td>32.002538</td>\n",
       "      <td>794.000000</td>\n",
       "      <td>7.3</td>\n",
       "      <td>2008.0</td>\n",
       "      <td>15.191800</td>\n",
       "      <td>32.411743</td>\n",
       "      <td>17.219943</td>\n",
       "    </tr>\n",
       "    <tr>\n",
       "      <th>Adam McKay</th>\n",
       "      <td>4.648046</td>\n",
       "      <td>28.000000</td>\n",
       "      <td>133.346506</td>\n",
       "      <td>1545.000000</td>\n",
       "      <td>7.3</td>\n",
       "      <td>2015.0</td>\n",
       "      <td>25.759989</td>\n",
       "      <td>122.678731</td>\n",
       "      <td>96.918743</td>\n",
       "    </tr>\n",
       "  </tbody>\n",
       "</table>\n",
       "</div>"
      ],
      "text/plain": [
       "                               popularity      budget     revenue  \\\n",
       "director                                                            \n",
       "Martin Scorsese                  4.877927  100.000000  392.000694   \n",
       "Rajkumar Hirani                  0.816681    9.000000   70.000000   \n",
       "Wes Anderson                     2.816630   22.333333  104.768245   \n",
       "John Singleton                   0.089976   16.000000   29.381649   \n",
       "Richard Curtis                   2.494576   20.000000  166.016108   \n",
       "John Lee Hancock                 1.261132   35.000000  112.544580   \n",
       "Jonathan Dayton|Valerie Faris    0.778589    8.000000  100.523181   \n",
       "Marc Webb                        3.244139    7.500000   60.722734   \n",
       "Martin McDonagh                  1.054819   15.000000   32.002538   \n",
       "Adam McKay                       4.648046   28.000000  133.346506   \n",
       "\n",
       "                                vote_count  vote_average  release_year  \\\n",
       "director                                                                 \n",
       "Martin Scorsese                4027.000000           7.9        2013.0   \n",
       "Rajkumar Hirani                 662.000000           7.8        2009.0   \n",
       "Wes Anderson                   1485.666667           7.6        2009.0   \n",
       "John Singleton                   29.000000           7.4        2001.0   \n",
       "Richard Curtis                 1290.000000           7.3        2008.0   \n",
       "John Lee Hancock                811.000000           7.3        2013.0   \n",
       "Jonathan Dayton|Valerie Faris   952.000000           7.3        2006.0   \n",
       "Marc Webb                      1778.000000           7.3        2009.0   \n",
       "Martin McDonagh                 794.000000           7.3        2008.0   \n",
       "Adam McKay                     1545.000000           7.3        2015.0   \n",
       "\n",
       "                               budget_adj  revenue_adj      profit  \n",
       "director                                                            \n",
       "Martin Scorsese                 93.603335   366.925724  273.322389  \n",
       "Rajkumar Hirani                  9.147604    71.148030   62.000426  \n",
       "Wes Anderson                    22.896630   104.544797   81.648167  \n",
       "John Singleton                  19.703810    36.183152   16.479342  \n",
       "Richard Curtis                  23.707053   185.929721  162.222668  \n",
       "John Lee Hancock                32.761167   105.345481   72.584313  \n",
       "Jonathan Dayton|Valerie Faris    8.653353   108.732825  100.079471  \n",
       "Marc Webb                        7.623003    61.718613   54.095610  \n",
       "Martin McDonagh                 15.191800    32.411743   17.219943  \n",
       "Adam McKay                      25.759989   122.678731   96.918743  "
      ]
     },
     "execution_count": 420,
     "metadata": {},
     "output_type": "execute_result"
    }
   ],
   "source": [
    "directors_by_rating = directors.mean().sort_values(by = ['vote_average'], ascending = False)[:10]\n",
    "directors_by_rating"
   ]
  },
  {
   "cell_type": "markdown",
   "metadata": {},
   "source": [
    "for a visualization, we can plot ratings vs. profit or something like that"
   ]
  },
  {
   "cell_type": "markdown",
   "metadata": {},
   "source": [
    "#### Scorsese is in both lists! But... it was only one movie (Wolf of Wall Street)"
   ]
  },
  {
   "cell_type": "markdown",
   "metadata": {},
   "source": [
    "## Who should star in this film?"
   ]
  },
  {
   "cell_type": "code",
   "execution_count": 421,
   "metadata": {},
   "outputs": [
    {
     "data": {
      "text/plain": [
       "5428    [Leonardo DiCaprio, Jonah Hill, Margot Robbie,...\n",
       "Name: cast, dtype: object"
      ]
     },
     "execution_count": 421,
     "metadata": {},
     "output_type": "execute_result"
    }
   ],
   "source": [
    "worked_with_scorsese = drama_comedy[drama_comedy['director'] == 'Martin Scorsese']['cast']\n",
    "worked_with_scorsese"
   ]
  },
  {
   "cell_type": "code",
   "execution_count": 422,
   "metadata": {},
   "outputs": [],
   "source": [
    "casts = drama_comedy[['cast', 'profit']]"
   ]
  },
  {
   "cell_type": "code",
   "execution_count": 423,
   "metadata": {},
   "outputs": [],
   "source": [
    "casts_actors = casts['cast'].values \n",
    "casts_profits = casts['profit'].values"
   ]
  },
  {
   "cell_type": "code",
   "execution_count": null,
   "metadata": {},
   "outputs": [],
   "source": []
  },
  {
   "cell_type": "code",
   "execution_count": 424,
   "metadata": {},
   "outputs": [],
   "source": [
    "casts_n_profit = []\n",
    "for i, actors in enumerate(casts_actors):\n",
    "    to_append = (actors, casts_profits[i])\n",
    "    casts_n_profit.append(to_append)\n"
   ]
  },
  {
   "cell_type": "code",
   "execution_count": 425,
   "metadata": {},
   "outputs": [],
   "source": [
    "actors_dict = {}\n",
    "for tup in casts_n_profit:\n",
    "    for actor in tup[0]:\n",
    "        x = str(actor)\n",
    "        if x in actors_dict:\n",
    "            actors_dict[x] += tup[1]/2 # this is to get the mean\n",
    "        else:\n",
    "            actors_dict[x] = tup[1]\n",
    "    "
   ]
  },
  {
   "cell_type": "code",
   "execution_count": 426,
   "metadata": {},
   "outputs": [],
   "source": [
    "sorted_actors = sorted(actors_dict.items(), key = lambda x: x[1], reverse = True)"
   ]
  },
  {
   "cell_type": "code",
   "execution_count": 432,
   "metadata": {},
   "outputs": [],
   "source": [
    "actors = sorted_actors[:50] # mean revenues per actor"
   ]
  },
  {
   "cell_type": "markdown",
   "metadata": {},
   "source": [
    "Maybe instead of looking at revenues I can look at popularity (whatever that column actually means)"
   ]
  },
  {
   "cell_type": "code",
   "execution_count": 433,
   "metadata": {},
   "outputs": [],
   "source": [
    "actors_plot = []\n",
    "revenues_plot = []\n",
    "for actor in actors:\n",
    "    actors_plot.append(actor[0])\n",
    "    revenues_plot.append(actor[1])"
   ]
  },
  {
   "cell_type": "code",
   "execution_count": null,
   "metadata": {},
   "outputs": [],
   "source": []
  },
  {
   "cell_type": "code",
   "execution_count": 446,
   "metadata": {},
   "outputs": [
    {
     "data": {
      "image/png": "[encoded data removed]",
      "text/plain": [
       "<Figure size 1080x432 with 1 Axes>"
      ]
     },
     "metadata": {},
     "output_type": "display_data"
    }
   ],
   "source": [
    "plt.figure(figsize = (15,6))\n",
    "sns.scatterplot(x = actors_plot, y = revenues_plot, color = 'crimson')\n",
    "plt.xticks(rotation=80)\n",
    "plt.xlabel('actor')\n",
    "plt.ylabel('mean revenues per movie')\n",
    "plt.show()"
   ]
  },
  {
   "cell_type": "code",
   "execution_count": null,
   "metadata": {},
   "outputs": [],
   "source": []
  },
  {
   "cell_type": "code",
   "execution_count": null,
   "metadata": {},
   "outputs": [],
   "source": []
  }
 ],
 "metadata": {
  "kernelspec": {
   "display_name": "Python 3",
   "language": "python",
   "name": "python3"
  },
  "language_info": {
   "codemirror_mode": {
    "name": "ipython",
    "version": 3
   },
   "file_extension": ".py",
   "mimetype": "text/x-python",
   "name": "python",
   "nbconvert_exporter": "python",
   "pygments_lexer": "ipython3",
   "version": "3.6.5"
  }
 },
 "nbformat": 4,
 "nbformat_minor": 2
}
