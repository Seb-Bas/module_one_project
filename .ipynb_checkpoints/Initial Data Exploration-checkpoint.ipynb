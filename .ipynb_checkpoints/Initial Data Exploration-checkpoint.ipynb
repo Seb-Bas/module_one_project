{
 "cells": [
  {
   "cell_type": "markdown",
   "metadata": {},
   "source": [
    "### Load  Data  Sets  &  See  What's  Inside\n",
    "\n",
    "We were given several data sets to work with, so let's load them up here, and explore some of their properties. We make sure to import the libraries that we will use throughout this initial data exploration."
   ]
  },
  {
   "cell_type": "code",
   "execution_count": 1,
   "metadata": {},
   "outputs": [],
   "source": [
    "import numpy as np\n",
    "import pandas as pd\n",
    "import matplotlib.pyplot as plt\n",
    "import seaborn as sns"
   ]
  },
  {
   "cell_type": "markdown",
   "metadata": {},
   "source": [
    "Next, we will load the data sets into different data frames using pandas."
   ]
  },
  {
   "cell_type": "code",
   "execution_count": 15,
   "metadata": {},
   "outputs": [],
   "source": [
    "bom_df = pd.read_csv('Data/bom.movie_gross.csv')\n",
    "imdb_name_df = pd.read_csv('Data/imdb.name.basics.csv')\n",
    "imdb_akas_df = pd.read_csv('Data/imdb.title.akas.csv')\n",
    "imdb_basics_df = pd.read_csv('Data/imdb.title.basics.csv')\n",
    "imbd_crew_df = pd.read_csv('Data/imdb.title.crew.csv')\n",
    "imdb_principals_df = pd.read_csv('Data/imdb.title.principals.csv')\n",
    "imdb_ratings_df = pd.read_csv('Data/imdb.title.ratings.csv')\n",
    "rt_info_df = pd.read_csv('Data/rt.movie_info.tsv', sep = '\\t')\n",
    "#rt_reviews_df = pd.read_csv('Data/rt.reviews.tsv', sep = '\\t') #having trouble with this one\n",
    "tmdb_movies_df = pd.read_csv('Data/tmdb.movies.csv')\n",
    "tn_budgets_df = pd.read_csv('Data/tn.movie_budgets.csv')"
   ]
  },
  {
   "cell_type": "markdown",
   "metadata": {},
   "source": [
    "Now, we will use the .head() method and a few others to see what's going on in these files. After exploring each file, we will summarize what we have found, giving a clear summary of what the data set is and what features it contains."
   ]
  },
  {
   "cell_type": "code",
   "execution_count": 45,
   "metadata": {},
   "outputs": [],
   "source": [
    "#bom_df.head()\n",
    "#imdb_name_df.head() \n",
    "#imdb_akas_df.head() \n",
    "#imdb_basics_df.head() \n",
    "#imbd_crew_df.head() \n",
    "#imdb_principals_df.head() \n",
    "#imdb_ratings_df.head() \n",
    "#rt_info_df.head() \n",
    "#tmdb_movies_df.head()\n",
    "#tn_budgets_df.head() "
   ]
  },
  {
   "cell_type": "markdown",
   "metadata": {},
   "source": [
    "**bom_df**: title, studio, domestic gross earnings, foreign gross earnings, year\n",
    "\n",
    "**imdb_name_df**: This data frame shows us a bunch of peoples' names in the industry and their professions. Films are identified by an 'nconst'. \n",
    "\n",
    "**imdb_akas_df**: I believe this displays titles of films in different languages. Probably not that useful in our analyses.\n",
    "\n",
    "**imdb_basics_df**: Gives us titles, start years, runtime minutes, and genres (I believe tv and films both)\n",
    "\n",
    "**imbd_crew_df**: Using 'tconst' to identify the work, gives us the directors and writers coded as nm (maybe refers back to the imdb_names info?\n",
    "\n",
    "**imdb_principals_df**: Ordering(??), nconst, category (i.e. actor, producer, etc.), job, characters\n",
    "\n",
    "**imdb_ratings_df**: Average rating and number of votes with IDs being tconst again\n",
    "\n",
    "**rt_info_df**: Tons of juicy info! Synopsis, Rating (G,R,etc.), genre, director, writer, theater date, dvd date, box office, runtime, studio\n",
    "\n",
    "**tmdb_movies_df**: genre, original language, original title, popularity, release_date, title, vote_average, vote_count\n",
    "\n",
    "**tn_budgets_df**: Nice and clean data. Movie title, release date, production budget, domestic gross, wordwide gross"
   ]
  },
  {
   "cell_type": "code",
   "execution_count": null,
   "metadata": {},
   "outputs": [],
   "source": [
    "# bom_df\n",
    "# imdb_name_df\n",
    "# imdb_akas_df\n",
    "# imdb_basics_df\n",
    "# imbd_crew_df\n",
    "# imdb_principals_df\n",
    "# imdb_ratings_df\n",
    "# rt_info_df \n",
    "# tmdb_movies_df\n",
    "# tn_budgets_df"
   ]
  }
 ],
 "metadata": {
  "kernelspec": {
   "display_name": "Python 3",
   "language": "python",
   "name": "python3"
  },
  "language_info": {
   "codemirror_mode": {
    "name": "ipython",
    "version": 3
   },
   "file_extension": ".py",
   "mimetype": "text/x-python",
   "name": "python",
   "nbconvert_exporter": "python",
   "pygments_lexer": "ipython3",
   "version": "3.6.5"
  }
 },
 "nbformat": 4,
 "nbformat_minor": 2
}
