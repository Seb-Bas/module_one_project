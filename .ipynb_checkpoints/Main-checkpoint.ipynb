{
 "cells": [
  {
   "cell_type": "markdown",
   "metadata": {},
   "source": [
    "## Imports"
   ]
  },
  {
   "cell_type": "code",
   "execution_count": 59,
   "metadata": {},
   "outputs": [],
   "source": [
    "import numpy as np\n",
    "import pandas as pd\n",
    "import matplotlib.pyplot as plt\n",
    "import seaborn as sns\n",
    "import pickle\n",
    "import datetime\n",
    "import squarify\n",
    "\n",
    "sns.set(style=\"whitegrid\")\n",
    "%matplotlib inline"
   ]
  },
  {
   "cell_type": "code",
   "execution_count": 60,
   "metadata": {},
   "outputs": [],
   "source": [
    "#bom_df = pd.read_csv('Data/bom.movie_gross.csv')\n",
    "# imdb_name_df = pd.read_csv('Data/imdb.name.basics.csv')\n",
    "# imdb_akas_df = pd.read_csv('Data/imdb.title.akas.csv')\n",
    "# imdb_basics_df = pd.read_csv('Data/imdb.title.basics.csv')\n",
    "# imbd_crew_df = pd.read_csv('Data/imdb.title.crew.csv')\n",
    "# imdb_principals_df = pd.read_csv('Data/imdb.title.principals.csv')\n",
    "# imdb_ratings_df = pd.read_csv('Data/imdb.title.ratings.csv')\n",
    "# rt_info_df = pd.read_csv('Data/rt.movie_info.tsv', sep = '\\t')\n",
    "# rt_reviews_df = pd.read_csv('Data/rt.reviews.tsv', sep = '\\t', encoding ='ISO-8859-1')\n",
    "# tmdb_movies_df = pd.read_csv('Data/tmdb.movies.csv')\n",
    "# tn_budgets_df = pd.read_csv('Data/tn.movie_budgets.csv')\n",
    "\n",
    "tmdb_data = pd.read_csv('Data/tmdb_movies_data.csv')\n",
    "oscars_data = pd.read_csv('Data/oscars_database.csv')"
   ]
  },
  {
   "cell_type": "markdown",
   "metadata": {},
   "source": [
    "## Data Cleaning"
   ]
  },
  {
   "cell_type": "markdown",
   "metadata": {},
   "source": [
    "#### Oscars Cleaning"
   ]
  },
  {
   "cell_type": "code",
   "execution_count": 61,
   "metadata": {},
   "outputs": [],
   "source": [
    "oscars_data['Year'] = oscars_data['Year'].str[:4].astype('int64')\n",
    "oscars_data = oscars_data[oscars_data['Year'] >= 2000]\n",
    "oscars_data = oscars_data[oscars_data['Year'] <= 2019]\n",
    "oscars_data.drop(columns = 'Ceremony', inplace = True)"
   ]
  },
  {
   "cell_type": "code",
   "execution_count": 62,
   "metadata": {},
   "outputs": [
    {
     "data": {
      "text/plain": [
       "Year         0\n",
       "Award        0\n",
       "Winner    1458\n",
       "Name         0\n",
       "Film        72\n",
       "dtype: int64"
      ]
     },
     "execution_count": 62,
     "metadata": {},
     "output_type": "execute_result"
    }
   ],
   "source": [
    "oscars_data.isna().sum()"
   ]
  },
  {
   "cell_type": "code",
   "execution_count": 63,
   "metadata": {},
   "outputs": [],
   "source": [
    "oscars_data = oscars_data[~oscars_data['Film'].isna()]\n",
    "oscars_data = oscars_data.fillna(0)\n",
    "oscars_data = oscars_data.set_index('Film')\n",
    "oscars_data.sort_values('Film', inplace = True)"
   ]
  },
  {
   "cell_type": "code",
   "execution_count": 64,
   "metadata": {},
   "outputs": [],
   "source": [
    "wins = oscars_data.groupby('Film').sum()['Winner']\n",
    "nominations = oscars_data.groupby('Film').count()['Winner']"
   ]
  },
  {
   "cell_type": "code",
   "execution_count": 65,
   "metadata": {},
   "outputs": [
    {
     "data": {
      "text/plain": [
       "Film\n",
       "12 Years a Slave    3\n",
       "127 Hours           1\n",
       "21 Grams            2\n",
       "45 Years            1\n",
       "A Beautiful Mind    2\n",
       "Name: Winner, dtype: int64"
      ]
     },
     "execution_count": 65,
     "metadata": {},
     "output_type": "execute_result"
    }
   ],
   "source": [
    "nominations.head()"
   ]
  },
  {
   "cell_type": "markdown",
   "metadata": {},
   "source": [
    "#### TMDB Cleaning"
   ]
  },
  {
   "cell_type": "code",
   "execution_count": 66,
   "metadata": {},
   "outputs": [
    {
     "data": {
      "text/plain": [
       "Index(['id', 'imdb_id', 'popularity', 'budget', 'revenue', 'original_title',\n",
       "       'cast', 'homepage', 'director', 'tagline', 'keywords', 'overview',\n",
       "       'runtime', 'genres', 'production_companies', 'release_date',\n",
       "       'vote_count', 'vote_average', 'release_year', 'budget_adj',\n",
       "       'revenue_adj'],\n",
       "      dtype='object')"
      ]
     },
     "execution_count": 66,
     "metadata": {},
     "output_type": "execute_result"
    }
   ],
   "source": [
    "tmdb_data.columns"
   ]
  },
  {
   "cell_type": "code",
   "execution_count": 67,
   "metadata": {},
   "outputs": [],
   "source": [
    "tmdb_data.drop(columns = ['id', 'homepage', 'tagline', 'keywords', 'overview', 'runtime', 'production_companies', \n",
    "                         'release_date'], inplace = True)"
   ]
  },
  {
   "cell_type": "code",
   "execution_count": 68,
   "metadata": {},
   "outputs": [],
   "source": [
    "tmdb_data['cast'] = tmdb_data['cast'].apply(lambda x: str(x).split('|'))\n",
    "tmdb_data['genres'] = tmdb_data['genres'].apply(lambda x: str(x).split('|'))\n",
    "tmdb_data['budget'] = tmdb_data['budget']/1000000\n",
    "tmdb_data['revenue'] = tmdb_data['revenue']/1000000"
   ]
  },
  {
   "cell_type": "code",
   "execution_count": 69,
   "metadata": {},
   "outputs": [],
   "source": [
    "tmdb_cleaned = tmdb_data.sort_values(by = ['revenue_adj'], ascending = False)\n",
    "tmdb_cleaned = tmdb_cleaned[~tmdb_cleaned.director.isna()]\n",
    "tmdb_cleaned = tmdb_cleaned.drop_duplicates(subset =\"imdb_id\", keep = False)\n",
    "tmdb_cleaned = tmdb_cleaned[tmdb_cleaned['release_year'] >= 2000]\n",
    "\n",
    "tmdb_cleaned['budget_adj'] = tmdb_cleaned['budget_adj']/1000000\n",
    "tmdb_cleaned['revenue_adj'] = tmdb_cleaned['revenue_adj']/1000000\n",
    "tmdb_cleaned['profit'] = tmdb_cleaned['revenue_adj'] - tmdb_cleaned['budget_adj']"
   ]
  },
  {
   "cell_type": "code",
   "execution_count": 70,
   "metadata": {},
   "outputs": [
    {
     "data": {
      "text/html": [
       "<div>\n",
       "<style scoped>\n",
       "    .dataframe tbody tr th:only-of-type {\n",
       "        vertical-align: middle;\n",
       "    }\n",
       "\n",
       "    .dataframe tbody tr th {\n",
       "        vertical-align: top;\n",
       "    }\n",
       "\n",
       "    .dataframe thead th {\n",
       "        text-align: right;\n",
       "    }\n",
       "</style>\n",
       "<table border=\"1\" class=\"dataframe\">\n",
       "  <thead>\n",
       "    <tr style=\"text-align: right;\">\n",
       "      <th></th>\n",
       "      <th>imdb_id</th>\n",
       "      <th>popularity</th>\n",
       "      <th>budget</th>\n",
       "      <th>revenue</th>\n",
       "      <th>original_title</th>\n",
       "      <th>cast</th>\n",
       "      <th>director</th>\n",
       "      <th>genres</th>\n",
       "      <th>vote_count</th>\n",
       "      <th>vote_average</th>\n",
       "      <th>release_year</th>\n",
       "      <th>budget_adj</th>\n",
       "      <th>revenue_adj</th>\n",
       "      <th>profit</th>\n",
       "    </tr>\n",
       "  </thead>\n",
       "  <tbody>\n",
       "    <tr>\n",
       "      <th>1386</th>\n",
       "      <td>tt0499549</td>\n",
       "      <td>9.432768</td>\n",
       "      <td>237.0</td>\n",
       "      <td>2781.505847</td>\n",
       "      <td>Avatar</td>\n",
       "      <td>[Sam Worthington, Zoe Saldana, Sigourney Weave...</td>\n",
       "      <td>James Cameron</td>\n",
       "      <td>[Action, Adventure, Fantasy, Science Fiction]</td>\n",
       "      <td>8458</td>\n",
       "      <td>7.1</td>\n",
       "      <td>2009</td>\n",
       "      <td>240.886903</td>\n",
       "      <td>2827.12375</td>\n",
       "      <td>2586.236847</td>\n",
       "    </tr>\n",
       "  </tbody>\n",
       "</table>\n",
       "</div>"
      ],
      "text/plain": [
       "        imdb_id  popularity  budget      revenue original_title  \\\n",
       "1386  tt0499549    9.432768   237.0  2781.505847         Avatar   \n",
       "\n",
       "                                                   cast       director  \\\n",
       "1386  [Sam Worthington, Zoe Saldana, Sigourney Weave...  James Cameron   \n",
       "\n",
       "                                             genres  vote_count  vote_average  \\\n",
       "1386  [Action, Adventure, Fantasy, Science Fiction]        8458           7.1   \n",
       "\n",
       "      release_year  budget_adj  revenue_adj       profit  \n",
       "1386          2009  240.886903   2827.12375  2586.236847  "
      ]
     },
     "execution_count": 70,
     "metadata": {},
     "output_type": "execute_result"
    }
   ],
   "source": [
    "tmdb_cleaned[tmdb_cleaned['original_title'] == 'Avatar']"
   ]
  },
  {
   "cell_type": "markdown",
   "metadata": {},
   "source": [
    "#### Merging Data Frames"
   ]
  },
  {
   "cell_type": "code",
   "execution_count": 71,
   "metadata": {},
   "outputs": [],
   "source": [
    "merged_data = tmdb_cleaned"
   ]
  },
  {
   "cell_type": "code",
   "execution_count": null,
   "metadata": {},
   "outputs": [],
   "source": []
  },
  {
   "cell_type": "code",
   "execution_count": 72,
   "metadata": {},
   "outputs": [],
   "source": [
    "merged_data = merged_data.merge(nominations, left_on = 'original_title', right_on = 'Film', how = 'left')\n",
    "merged_data.rename(columns = {'Winner': 'nominations'}, inplace = True)\n",
    "merged_data = merged_data.merge(wins, left_on = 'original_title', right_on = 'Film', how = 'left')\n",
    "merged_data.rename(columns = {'Winner': 'wins'}, inplace = True)\n",
    "#merged_data.nominations.fillna(0, inplace = True)\n",
    "#merged_data.wins.fillna(0, inplace = True)"
   ]
  },
  {
   "cell_type": "markdown",
   "metadata": {},
   "source": [
    "quick note! we want to do a left merge here, because if we do only the intersection, we will get a small selection of movies that have been nominated to the oscars meaning the budgets and revenues will be much much higher!"
   ]
  },
  {
   "cell_type": "code",
   "execution_count": null,
   "metadata": {},
   "outputs": [],
   "source": []
  },
  {
   "cell_type": "markdown",
   "metadata": {},
   "source": [
    "## Feature Generation (Genres)"
   ]
  },
  {
   "cell_type": "code",
   "execution_count": 73,
   "metadata": {},
   "outputs": [],
   "source": [
    "comedies = merged_data[merged_data['genres'].apply(lambda x: 'Comedy' in x)]\n",
    "dramas = merged_data[merged_data['genres'].apply(lambda x: 'Drama' in x)]\n",
    "horrors = merged_data[merged_data['genres'].apply(lambda x: 'Horror' in x)]\n",
    "adventures = merged_data[merged_data['genres'].apply(lambda x: 'Adventure' in x)]\n",
    "fantasies = merged_data[merged_data['genres'].apply(lambda x: 'Fantasy' in x)]\n",
    "thrillers = merged_data[merged_data['genres'].apply(lambda x: 'Thriller' in x)]\n",
    "science_fictions = merged_data[merged_data['genres'].apply(lambda x: 'Science Fiction' in x)]\n",
    "actions = merged_data[merged_data['genres'].apply(lambda x: 'Action' in x)]\n",
    "crimes = merged_data[merged_data['genres'].apply(lambda x: 'Crime' in x)]\n",
    "families = merged_data[merged_data['genres'].apply(lambda x: 'Family' in x)]\n",
    "animations = merged_data[merged_data['genres'].apply(lambda x: 'Animation' in x)]\n",
    "mysteries = merged_data[merged_data['genres'].apply(lambda x: 'Mystery' in x)]"
   ]
  },
  {
   "cell_type": "code",
   "execution_count": 74,
   "metadata": {},
   "outputs": [],
   "source": [
    "genres = [comedies, dramas, horrors, adventures, fantasies, thrillers, science_fictions, actions, crimes, families, animations, mysteries]\n",
    "genres_names = ['comedy', 'drama', 'horror', 'adventure', 'fantasy', 'thriller', 'science fiction', 'action', 'crime', 'family', 'animation', 'mystery']"
   ]
  },
  {
   "cell_type": "code",
   "execution_count": 75,
   "metadata": {},
   "outputs": [],
   "source": [
    "revenues_adj_mean = []\n",
    "budget_adj_mean = []\n",
    "oscar_nominations = []\n",
    "oscar_wins = []\n",
    "for genre in genres:\n",
    "    revenues_adj_mean.append(genre.mean()['revenue_adj'])\n",
    "    budget_adj_mean.append(genre.mean()['budget_adj'])\n",
    "    oscar_nominations.append(genre.sum()['nominations'])\n",
    "    oscar_wins.append(genre.sum()['wins'])\n",
    "\n",
    "to_df = []\n",
    "for i in range(len(genres_names)):\n",
    "    my_list = [genres_names[i], budget_adj_mean[i], revenues_adj_mean[i], oscar_nominations[i], oscar_wins[i]]\n",
    "    to_df.append(my_list)\n",
    "\n",
    "genres_df = pd.DataFrame(to_df, columns = ['genre', 'budget', 'revenue', 'oscar_nominations', 'oscar_wins']) "
   ]
  },
  {
   "cell_type": "code",
   "execution_count": 76,
   "metadata": {},
   "outputs": [],
   "source": [
    "genres_df.sort_values(by = ['revenue'], inplace = True, ascending = False)\n",
    "genres_df['profit'] = genres_df['revenue'] - genres_df['budget']"
   ]
  },
  {
   "cell_type": "code",
   "execution_count": 77,
   "metadata": {},
   "outputs": [
    {
     "data": {
      "text/html": [
       "<div>\n",
       "<style scoped>\n",
       "    .dataframe tbody tr th:only-of-type {\n",
       "        vertical-align: middle;\n",
       "    }\n",
       "\n",
       "    .dataframe tbody tr th {\n",
       "        vertical-align: top;\n",
       "    }\n",
       "\n",
       "    .dataframe thead th {\n",
       "        text-align: right;\n",
       "    }\n",
       "</style>\n",
       "<table border=\"1\" class=\"dataframe\">\n",
       "  <thead>\n",
       "    <tr style=\"text-align: right;\">\n",
       "      <th></th>\n",
       "      <th>genre</th>\n",
       "      <th>budget</th>\n",
       "      <th>revenue</th>\n",
       "      <th>oscar_nominations</th>\n",
       "      <th>oscar_wins</th>\n",
       "      <th>profit</th>\n",
       "    </tr>\n",
       "  </thead>\n",
       "  <tbody>\n",
       "    <tr>\n",
       "      <th>0</th>\n",
       "      <td>adventure</td>\n",
       "      <td>52.896315</td>\n",
       "      <td>153.355885</td>\n",
       "      <td>14.0</td>\n",
       "      <td>2.0</td>\n",
       "      <td>100.459571</td>\n",
       "    </tr>\n",
       "    <tr>\n",
       "      <th>1</th>\n",
       "      <td>fantasy</td>\n",
       "      <td>46.038945</td>\n",
       "      <td>138.644258</td>\n",
       "      <td>7.0</td>\n",
       "      <td>0.0</td>\n",
       "      <td>92.605313</td>\n",
       "    </tr>\n",
       "    <tr>\n",
       "      <th>2</th>\n",
       "      <td>family</td>\n",
       "      <td>31.958533</td>\n",
       "      <td>95.348340</td>\n",
       "      <td>1.0</td>\n",
       "      <td>0.0</td>\n",
       "      <td>63.389808</td>\n",
       "    </tr>\n",
       "    <tr>\n",
       "      <th>3</th>\n",
       "      <td>action</td>\n",
       "      <td>36.729493</td>\n",
       "      <td>91.910526</td>\n",
       "      <td>22.0</td>\n",
       "      <td>5.0</td>\n",
       "      <td>55.181033</td>\n",
       "    </tr>\n",
       "    <tr>\n",
       "      <th>4</th>\n",
       "      <td>science fiction</td>\n",
       "      <td>32.986638</td>\n",
       "      <td>88.752090</td>\n",
       "      <td>3.0</td>\n",
       "      <td>0.0</td>\n",
       "      <td>55.765451</td>\n",
       "    </tr>\n",
       "  </tbody>\n",
       "</table>\n",
       "</div>"
      ],
      "text/plain": [
       "             genre     budget     revenue  oscar_nominations  oscar_wins  \\\n",
       "0        adventure  52.896315  153.355885               14.0         2.0   \n",
       "1          fantasy  46.038945  138.644258                7.0         0.0   \n",
       "2           family  31.958533   95.348340                1.0         0.0   \n",
       "3           action  36.729493   91.910526               22.0         5.0   \n",
       "4  science fiction  32.986638   88.752090                3.0         0.0   \n",
       "\n",
       "       profit  \n",
       "0  100.459571  \n",
       "1   92.605313  \n",
       "2   63.389808  \n",
       "3   55.181033  \n",
       "4   55.765451  "
      ]
     },
     "execution_count": 77,
     "metadata": {},
     "output_type": "execute_result"
    }
   ],
   "source": [
    "genres_df = genres_df.reset_index().drop(columns = ['index'])\n",
    "genres_df.head()"
   ]
  },
  {
   "cell_type": "markdown",
   "metadata": {},
   "source": [
    "## Analysis & Visualizations (Genres)"
   ]
  },
  {
   "cell_type": "code",
   "execution_count": 78,
   "metadata": {},
   "outputs": [
    {
     "data": {
      "text/plain": [
       "Text(0,0.5,'Mean Revenue in Millions of Dollars')"
      ]
     },
     "execution_count": 78,
     "metadata": {},
     "output_type": "execute_result"
    },
    {
     "data": {
      "image/png": "[encoded data removed]",
      "text/plain": [
       "<Figure size 1080x432 with 1 Axes>"
      ]
     },
     "metadata": {},
     "output_type": "display_data"
    }
   ],
   "source": [
    "plt.figure(figsize = (15,6))\n",
    "sns.barplot(x = 'genre', y = 'revenue', data = genres_df)\n",
    "plt.title('Mean Gross Revenues by Genre')\n",
    "plt.ylabel('Mean Revenue in Millions of Dollars')"
   ]
  },
  {
   "cell_type": "code",
   "execution_count": 79,
   "metadata": {},
   "outputs": [
    {
     "data": {
      "text/plain": [
       "Text(0,0.5,'Mean Profit in Millions of Dollars')"
      ]
     },
     "execution_count": 79,
     "metadata": {},
     "output_type": "execute_result"
    },
    {
     "data": {
      "image/png": "[encoded data removed]",
      "text/plain": [
       "<Figure size 1080x432 with 1 Axes>"
      ]
     },
     "metadata": {},
     "output_type": "display_data"
    }
   ],
   "source": [
    "genres_df.sort_values(by = ['profit'], inplace = True, ascending = False)\n",
    "plt.figure(figsize = (15,6))\n",
    "sns.barplot(x = 'genre', y = 'profit', data = genres_df)\n",
    "plt.title('Mean Profit by Genre')\n",
    "plt.ylabel('Mean Profit in Millions of Dollars')"
   ]
  },
  {
   "cell_type": "code",
   "execution_count": 80,
   "metadata": {},
   "outputs": [
    {
     "data": {
      "text/plain": [
       "<matplotlib.axes._subplots.AxesSubplot at 0x1a1fa15390>"
      ]
     },
     "execution_count": 80,
     "metadata": {},
     "output_type": "execute_result"
    },
    {
     "data": {
      "image/png": "[encoded data removed]",
      "text/plain": [
       "<Figure size 1008x720 with 1 Axes>"
      ]
     },
     "metadata": {},
     "output_type": "display_data"
    }
   ],
   "source": [
    "plt.figure(figsize = (14,10))\n",
    "squarify.plot(sizes = genres_df['profit'], label = genres_df['genre'])"
   ]
  },
  {
   "cell_type": "markdown",
   "metadata": {},
   "source": [
    "#### So it looks like we should go for adventure/fantasy, right? BUT WAIT! Microsoft wants a good film. It has a bunch of streaming content ready to go. Microsoft believes that the first film needs to make waves and gain attention for the platform, so we definitely want an oscar nod."
   ]
  },
  {
   "cell_type": "code",
   "execution_count": 81,
   "metadata": {},
   "outputs": [
    {
     "data": {
      "text/plain": [
       "<matplotlib.axes._subplots.AxesSubplot at 0x1a20bc8828>"
      ]
     },
     "execution_count": 81,
     "metadata": {},
     "output_type": "execute_result"
    },
    {
     "data": {
      "image/png": "[encoded data removed]",
      "text/plain": [
       "<Figure size 1080x432 with 1 Axes>"
      ]
     },
     "metadata": {},
     "output_type": "display_data"
    }
   ],
   "source": [
    "genres_df.sort_values(by = ['oscar_nominations'], ascending = False, inplace = True)\n",
    "plt.figure(figsize = (15,6))\n",
    "sns.barplot(x = 'genre', y = 'oscar_nominations', data = genres_df)\n",
    "# add labels\n",
    "# can I stack wins?\n"
   ]
  },
  {
   "cell_type": "code",
   "execution_count": 83,
   "metadata": {},
   "outputs": [
    {
     "data": {
      "text/plain": [
       "<matplotlib.axes._subplots.AxesSubplot at 0x1a1f3129b0>"
      ]
     },
     "execution_count": 83,
     "metadata": {},
     "output_type": "execute_result"
    },
    {
     "data": {
      "image/png": "[encoded data removed]",
      "text/plain": [
       "<Figure size 1008x720 with 1 Axes>"
      ]
     },
     "metadata": {},
     "output_type": "display_data"
    }
   ],
   "source": [
    "plt.figure(figsize = (14,10))\n",
    "genres_df2 = genres_df[genres_df['oscar_nominations'] > 0]\n",
    "squarify.plot(sizes = genres_df2['oscar_nominations'], label = genres_df2['genre'])"
   ]
  },
  {
   "cell_type": "markdown",
   "metadata": {},
   "source": [
    "note! The above is actually counting multiple nominations (should we do it just if nominated?). This is probably ok, though."
   ]
  },
  {
   "cell_type": "markdown",
   "metadata": {},
   "source": [
    "New Question! Maybe we can combine genres.\n",
    "Are there **drama/adventure**, **drama/fantasy**, **drama/comedy** films?\n",
    "Note...remember to sort by highest grossing."
   ]
  },
  {
   "cell_type": "code",
   "execution_count": null,
   "metadata": {},
   "outputs": [],
   "source": [
    "drama_adventure = tmdb_cleaned[tmdb_cleaned['genres'].apply(lambda x: ('Drama' in x) & ('Adventure' in x))]\n",
    "drama_fantasy = tmdb_cleaned[tmdb_cleaned['genres'].apply(lambda x: ('Drama' in x) & ('Fantasy' in x))]\n",
    "drama_comedy = tmdb_cleaned[tmdb_cleaned['genres'].apply(lambda x: ('Drama' in x) & ('Comedy' in x))]"
   ]
  },
  {
   "cell_type": "code",
   "execution_count": null,
   "metadata": {},
   "outputs": [],
   "source": [
    "drama_adventure = drama_adventure.sort_values(by = ['revenue_adj'], ascending = False)\n",
    "drama_fantasy = drama_fantasy.sort_values(by = ['revenue_adj'], ascending = False)\n",
    "drama_comedy = drama_comedy.sort_values(by = ['revenue_adj'], ascending = False)"
   ]
  },
  {
   "cell_type": "markdown",
   "metadata": {},
   "source": [
    "We could try exploring this data ^ by profit rather than revenue, too"
   ]
  },
  {
   "cell_type": "code",
   "execution_count": null,
   "metadata": {},
   "outputs": [],
   "source": [
    "drama_adventure.head(15)['original_title']"
   ]
  },
  {
   "cell_type": "code",
   "execution_count": null,
   "metadata": {},
   "outputs": [],
   "source": [
    "drama_fantasy.head(15)['original_title']"
   ]
  },
  {
   "cell_type": "code",
   "execution_count": null,
   "metadata": {},
   "outputs": [],
   "source": [
    "drama_comedy.head(15)['original_title']"
   ]
  },
  {
   "cell_type": "code",
   "execution_count": null,
   "metadata": {},
   "outputs": [],
   "source": [
    "drama_adventure_oscars = drama_adventure.merge(nominations, left_on = 'original_title', right_on = 'Film', how = 'inner')\n",
    "drama_fantasy_oscars = drama_fantasy.merge(nominations, left_on = 'original_title', right_on = 'Film', how = 'inner')\n",
    "drama_comedy_oscars = drama_comedy.merge(nominations, left_on = 'original_title', right_on = 'Film', how = 'inner')"
   ]
  },
  {
   "cell_type": "code",
   "execution_count": null,
   "metadata": {},
   "outputs": [],
   "source": [
    "drama_adventure_oscars.head(15)['original_title']"
   ]
  },
  {
   "cell_type": "code",
   "execution_count": null,
   "metadata": {},
   "outputs": [],
   "source": [
    "drama_fantasy_oscars.head(15)['original_title']"
   ]
  },
  {
   "cell_type": "code",
   "execution_count": null,
   "metadata": {},
   "outputs": [],
   "source": [
    "drama_comedy_oscars.head(10)['original_title']"
   ]
  },
  {
   "cell_type": "code",
   "execution_count": null,
   "metadata": {},
   "outputs": [],
   "source": [
    "print(len(drama_adventure_oscars['original_title']))\n",
    "print(len(drama_fantasy_oscars['original_title']))\n",
    "print(len(drama_comedy_oscars['original_title']))"
   ]
  },
  {
   "cell_type": "markdown",
   "metadata": {},
   "source": [
    "## Microsoft -- make a drama/comedy! It's the sweet spot between making bank and oscar nods!\n",
    "Great ones to model include Juno, The Wolf of Wall Street, The Devil Wears Prada, Silver Linings Playbook. All of these were very high grossing films that also got oscar nominations."
   ]
  },
  {
   "cell_type": "markdown",
   "metadata": {},
   "source": [
    "#### Microsoft -- as a close second choice, make a drama/adventure film!\n",
    "Great ones to model include Gladiator, The Martian, Cast Away, True Grit, Into the Wild, 127 Hours, and Cast Away. All of these were very high grossing films that also got oscar nominations."
   ]
  },
  {
   "cell_type": "markdown",
   "metadata": {},
   "source": [
    "## Now we have to figure out who should direct and write the film (given a drama/comedy)"
   ]
  },
  {
   "cell_type": "code",
   "execution_count": null,
   "metadata": {},
   "outputs": [],
   "source": [
    "directors = drama_comedy[drama_comedy['profit'] > 10].groupby('director')"
   ]
  },
  {
   "cell_type": "code",
   "execution_count": null,
   "metadata": {},
   "outputs": [],
   "source": [
    "directors_by_profit = directors.mean().sort_values(by = ['profit'], ascending = False)[:10]\n",
    "directors_by_profit"
   ]
  },
  {
   "cell_type": "code",
   "execution_count": null,
   "metadata": {},
   "outputs": [],
   "source": [
    "directors_by_rating = directors.mean().sort_values(by = ['vote_average'], ascending = False)[:10]\n",
    "directors_by_rating"
   ]
  },
  {
   "cell_type": "markdown",
   "metadata": {},
   "source": [
    "for a visualization, we can plot ratings vs. profit or something like that"
   ]
  },
  {
   "cell_type": "markdown",
   "metadata": {},
   "source": [
    "#### Scorsese is in both lists! But... it was only one movie (Wolf of Wall Street)"
   ]
  },
  {
   "cell_type": "markdown",
   "metadata": {},
   "source": [
    "## Who should star in this film?"
   ]
  },
  {
   "cell_type": "code",
   "execution_count": null,
   "metadata": {},
   "outputs": [],
   "source": [
    "worked_with_scorsese = drama_comedy[drama_comedy['director'] == 'Martin Scorsese']['cast']\n",
    "worked_with_scorsese"
   ]
  },
  {
   "cell_type": "code",
   "execution_count": null,
   "metadata": {},
   "outputs": [],
   "source": [
    "casts = drama_comedy[['cast', 'profit']]"
   ]
  },
  {
   "cell_type": "code",
   "execution_count": null,
   "metadata": {},
   "outputs": [],
   "source": [
    "casts_actors = casts['cast'].values \n",
    "casts_profits = casts['profit'].values"
   ]
  },
  {
   "cell_type": "code",
   "execution_count": null,
   "metadata": {},
   "outputs": [],
   "source": []
  },
  {
   "cell_type": "code",
   "execution_count": null,
   "metadata": {},
   "outputs": [],
   "source": [
    "casts_n_profit = []\n",
    "for i, actors in enumerate(casts_actors):\n",
    "    to_append = (actors, casts_profits[i])\n",
    "    casts_n_profit.append(to_append)\n"
   ]
  },
  {
   "cell_type": "code",
   "execution_count": null,
   "metadata": {},
   "outputs": [],
   "source": [
    "actors_dict = {}\n",
    "for tup in casts_n_profit:\n",
    "    for actor in tup[0]:\n",
    "        x = str(actor)\n",
    "        if x in actors_dict:\n",
    "            actors_dict[x] += tup[1]/2 # this is to get the mean\n",
    "        else:\n",
    "            actors_dict[x] = tup[1]\n",
    "    "
   ]
  },
  {
   "cell_type": "code",
   "execution_count": null,
   "metadata": {},
   "outputs": [],
   "source": [
    "sorted_actors = sorted(actors_dict.items(), key = lambda x: x[1], reverse = True)"
   ]
  },
  {
   "cell_type": "code",
   "execution_count": null,
   "metadata": {},
   "outputs": [],
   "source": [
    "actors = sorted_actors[:20] # mean revenues per actor"
   ]
  },
  {
   "cell_type": "markdown",
   "metadata": {},
   "source": [
    "Maybe instead of looking at revenues I can look at popularity (whatever that column actually means)"
   ]
  },
  {
   "cell_type": "code",
   "execution_count": null,
   "metadata": {},
   "outputs": [],
   "source": [
    "actors_plot = []\n",
    "revenues_plot = []\n",
    "for actor in actors:\n",
    "    actors_plot.append(actor[0])\n",
    "    revenues_plot.append(actor[1])"
   ]
  },
  {
   "cell_type": "code",
   "execution_count": null,
   "metadata": {},
   "outputs": [],
   "source": []
  },
  {
   "cell_type": "code",
   "execution_count": null,
   "metadata": {},
   "outputs": [],
   "source": [
    "plt.figure(figsize = (15,6))\n",
    "sns.barplot(x = actors_plot, y = revenues_plot)\n",
    "plt.xticks(rotation=70)\n",
    "plt.show()"
   ]
  },
  {
   "cell_type": "code",
   "execution_count": null,
   "metadata": {},
   "outputs": [],
   "source": [
    "plt.figure(figsize = (14,10))\n",
    "squarify.plot(sizes = revenues_plot, label = actors_plot)"
   ]
  },
  {
   "cell_type": "code",
   "execution_count": null,
   "metadata": {},
   "outputs": [],
   "source": []
  }
 ],
 "metadata": {
  "kernelspec": {
   "display_name": "Python 3",
   "language": "python",
   "name": "python3"
  },
  "language_info": {
   "codemirror_mode": {
    "name": "ipython",
    "version": 3
   },
   "file_extension": ".py",
   "mimetype": "text/x-python",
   "name": "python",
   "nbconvert_exporter": "python",
   "pygments_lexer": "ipython3",
   "version": "3.6.5"
  }
 },
 "nbformat": 4,
 "nbformat_minor": 2
}
